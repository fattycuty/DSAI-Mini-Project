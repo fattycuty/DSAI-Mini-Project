{
 "cells": [
  {
   "cell_type": "markdown",
   "id": "3eae94f8",
   "metadata": {},
   "source": [
    "# Importing"
   ]
  },
  {
   "cell_type": "markdown",
   "id": "d952b591",
   "metadata": {},
   "source": [
    "## Relevant Libraries"
   ]
  },
  {
   "cell_type": "code",
   "execution_count": 66,
   "id": "eb72b861",
   "metadata": {},
   "outputs": [],
   "source": [
    "import pandas as pd\n",
    "import numpy as np\n",
    "import seaborn as sb\n",
    "import matplotlib.pyplot as plt\n",
    "from ipywidgets import interact, interactive, fixed, interact_manual\n",
    "sb.set()"
   ]
  },
  {
   "cell_type": "markdown",
   "id": "901cfe65",
   "metadata": {},
   "source": [
    "## Importing relevant data "
   ]
  },
  {
   "cell_type": "code",
   "execution_count": 67,
   "id": "4f9e5994",
   "metadata": {},
   "outputs": [],
   "source": [
    "# each row shows per round results\n",
    "demo_df = pd.read_csv(\"dataset/esea_meta_demos.part1.csv\")\n",
    "\n",
    "# shows each encounter when damage is taken\n",
    "dmg_df = pd.read_csv(\"dataset/esea_master_dmg_demos.part1.csv\")\n",
    "\n",
    "# shows each kill (regardless of current hp)\n",
    "kill_df = pd.read_csv(\"dataset/esea_master_kills_demos.part1.csv\")\n",
    "\n",
    "# each map has xy value corresponding to coordinates in dmg_df\n",
    "# convert df to dict for easy access\n",
    "map_df = pd.read_csv(\"dataset/map_data.csv\").rename(columns={'Unnamed: 0':'map_name'})\n",
    "map_dict = map_df.set_index(\"map_name\").transpose().to_dict()"
   ]
  },
  {
   "cell_type": "markdown",
   "id": "f9d8baa7",
   "metadata": {},
   "source": [
    "___"
   ]
  },
  {
   "cell_type": "markdown",
   "id": "385bc709",
   "metadata": {},
   "source": [
    "# Data Cleaning"
   ]
  },
  {
   "cell_type": "code",
   "execution_count": 68,
   "id": "3de6d569",
   "metadata": {
    "scrolled": false
   },
   "outputs": [
    {
     "data": {
      "text/html": [
       "<div>\n",
       "<style scoped>\n",
       "    .dataframe tbody tr th:only-of-type {\n",
       "        vertical-align: middle;\n",
       "    }\n",
       "\n",
       "    .dataframe tbody tr th {\n",
       "        vertical-align: top;\n",
       "    }\n",
       "\n",
       "    .dataframe thead th {\n",
       "        text-align: right;\n",
       "    }\n",
       "</style>\n",
       "<table border=\"1\" class=\"dataframe\">\n",
       "  <thead>\n",
       "    <tr style=\"text-align: right;\">\n",
       "      <th></th>\n",
       "      <th>file</th>\n",
       "      <th>map</th>\n",
       "      <th>round</th>\n",
       "      <th>start_seconds</th>\n",
       "      <th>end_seconds</th>\n",
       "      <th>winner_team</th>\n",
       "      <th>winner_side</th>\n",
       "      <th>round_type</th>\n",
       "      <th>ct_eq_val</th>\n",
       "      <th>t_eq_val</th>\n",
       "    </tr>\n",
       "  </thead>\n",
       "  <tbody>\n",
       "    <tr>\n",
       "      <th>0</th>\n",
       "      <td>esea_match_13770997.dem</td>\n",
       "      <td>de_overpass</td>\n",
       "      <td>1</td>\n",
       "      <td>94.30782</td>\n",
       "      <td>160.9591</td>\n",
       "      <td>Hentai Hooligans</td>\n",
       "      <td>Terrorist</td>\n",
       "      <td>PISTOL_ROUND</td>\n",
       "      <td>4300</td>\n",
       "      <td>4250</td>\n",
       "    </tr>\n",
       "    <tr>\n",
       "      <th>1</th>\n",
       "      <td>esea_match_13770997.dem</td>\n",
       "      <td>de_overpass</td>\n",
       "      <td>2</td>\n",
       "      <td>160.95910</td>\n",
       "      <td>279.3998</td>\n",
       "      <td>Hentai Hooligans</td>\n",
       "      <td>Terrorist</td>\n",
       "      <td>ECO</td>\n",
       "      <td>6300</td>\n",
       "      <td>19400</td>\n",
       "    </tr>\n",
       "    <tr>\n",
       "      <th>2</th>\n",
       "      <td>esea_match_13770997.dem</td>\n",
       "      <td>de_overpass</td>\n",
       "      <td>3</td>\n",
       "      <td>279.39980</td>\n",
       "      <td>341.0084</td>\n",
       "      <td>Hentai Hooligans</td>\n",
       "      <td>Terrorist</td>\n",
       "      <td>SEMI_ECO</td>\n",
       "      <td>7650</td>\n",
       "      <td>19250</td>\n",
       "    </tr>\n",
       "    <tr>\n",
       "      <th>3</th>\n",
       "      <td>esea_match_13770997.dem</td>\n",
       "      <td>de_overpass</td>\n",
       "      <td>4</td>\n",
       "      <td>341.00840</td>\n",
       "      <td>435.4259</td>\n",
       "      <td>Hentai Hooligans</td>\n",
       "      <td>Terrorist</td>\n",
       "      <td>NORMAL</td>\n",
       "      <td>24900</td>\n",
       "      <td>23400</td>\n",
       "    </tr>\n",
       "    <tr>\n",
       "      <th>4</th>\n",
       "      <td>esea_match_13770997.dem</td>\n",
       "      <td>de_overpass</td>\n",
       "      <td>5</td>\n",
       "      <td>435.42590</td>\n",
       "      <td>484.2398</td>\n",
       "      <td>Animal Style</td>\n",
       "      <td>CounterTerrorist</td>\n",
       "      <td>ECO</td>\n",
       "      <td>5400</td>\n",
       "      <td>20550</td>\n",
       "    </tr>\n",
       "  </tbody>\n",
       "</table>\n",
       "</div>"
      ],
      "text/plain": [
       "                      file          map  round  start_seconds  end_seconds  \\\n",
       "0  esea_match_13770997.dem  de_overpass      1       94.30782     160.9591   \n",
       "1  esea_match_13770997.dem  de_overpass      2      160.95910     279.3998   \n",
       "2  esea_match_13770997.dem  de_overpass      3      279.39980     341.0084   \n",
       "3  esea_match_13770997.dem  de_overpass      4      341.00840     435.4259   \n",
       "4  esea_match_13770997.dem  de_overpass      5      435.42590     484.2398   \n",
       "\n",
       "        winner_team       winner_side    round_type  ct_eq_val  t_eq_val  \n",
       "0  Hentai Hooligans         Terrorist  PISTOL_ROUND       4300      4250  \n",
       "1  Hentai Hooligans         Terrorist           ECO       6300     19400  \n",
       "2  Hentai Hooligans         Terrorist      SEMI_ECO       7650     19250  \n",
       "3  Hentai Hooligans         Terrorist        NORMAL      24900     23400  \n",
       "4      Animal Style  CounterTerrorist           ECO       5400     20550  "
      ]
     },
     "metadata": {},
     "output_type": "display_data"
    },
    {
     "data": {
      "text/html": [
       "<div>\n",
       "<style scoped>\n",
       "    .dataframe tbody tr th:only-of-type {\n",
       "        vertical-align: middle;\n",
       "    }\n",
       "\n",
       "    .dataframe tbody tr th {\n",
       "        vertical-align: top;\n",
       "    }\n",
       "\n",
       "    .dataframe thead th {\n",
       "        text-align: right;\n",
       "    }\n",
       "</style>\n",
       "<table border=\"1\" class=\"dataframe\">\n",
       "  <thead>\n",
       "    <tr style=\"text-align: right;\">\n",
       "      <th></th>\n",
       "      <th>file</th>\n",
       "      <th>round</th>\n",
       "      <th>tick</th>\n",
       "      <th>seconds</th>\n",
       "      <th>att_team</th>\n",
       "      <th>vic_team</th>\n",
       "      <th>att_side</th>\n",
       "      <th>vic_side</th>\n",
       "      <th>hp_dmg</th>\n",
       "      <th>arm_dmg</th>\n",
       "      <th>...</th>\n",
       "      <th>wp</th>\n",
       "      <th>wp_type</th>\n",
       "      <th>att_id</th>\n",
       "      <th>att_rank</th>\n",
       "      <th>vic_id</th>\n",
       "      <th>vic_rank</th>\n",
       "      <th>att_pos_x</th>\n",
       "      <th>att_pos_y</th>\n",
       "      <th>vic_pos_x</th>\n",
       "      <th>vic_pos_y</th>\n",
       "    </tr>\n",
       "  </thead>\n",
       "  <tbody>\n",
       "    <tr>\n",
       "      <th>0</th>\n",
       "      <td>esea_match_13770997.dem</td>\n",
       "      <td>1</td>\n",
       "      <td>14372</td>\n",
       "      <td>111.8476</td>\n",
       "      <td>World</td>\n",
       "      <td>Animal Style</td>\n",
       "      <td>None</td>\n",
       "      <td>CounterTerrorist</td>\n",
       "      <td>1</td>\n",
       "      <td>0</td>\n",
       "      <td>...</td>\n",
       "      <td>Unknown</td>\n",
       "      <td>Unkown</td>\n",
       "      <td>0</td>\n",
       "      <td>0</td>\n",
       "      <td>76561198055054795</td>\n",
       "      <td>0</td>\n",
       "      <td>0.0000</td>\n",
       "      <td>0.00000</td>\n",
       "      <td>0.0000</td>\n",
       "      <td>0.000000</td>\n",
       "    </tr>\n",
       "    <tr>\n",
       "      <th>1</th>\n",
       "      <td>esea_match_13770997.dem</td>\n",
       "      <td>1</td>\n",
       "      <td>15972</td>\n",
       "      <td>124.3761</td>\n",
       "      <td>Animal Style</td>\n",
       "      <td>Hentai Hooligans</td>\n",
       "      <td>CounterTerrorist</td>\n",
       "      <td>Terrorist</td>\n",
       "      <td>18</td>\n",
       "      <td>9</td>\n",
       "      <td>...</td>\n",
       "      <td>USP</td>\n",
       "      <td>Pistol</td>\n",
       "      <td>76561198048742997</td>\n",
       "      <td>0</td>\n",
       "      <td>76561198082200410</td>\n",
       "      <td>0</td>\n",
       "      <td>-1499.6900</td>\n",
       "      <td>63.33829</td>\n",
       "      <td>-669.5558</td>\n",
       "      <td>-79.769570</td>\n",
       "    </tr>\n",
       "    <tr>\n",
       "      <th>2</th>\n",
       "      <td>esea_match_13770997.dem</td>\n",
       "      <td>1</td>\n",
       "      <td>16058</td>\n",
       "      <td>125.0495</td>\n",
       "      <td>Animal Style</td>\n",
       "      <td>Hentai Hooligans</td>\n",
       "      <td>CounterTerrorist</td>\n",
       "      <td>Terrorist</td>\n",
       "      <td>100</td>\n",
       "      <td>0</td>\n",
       "      <td>...</td>\n",
       "      <td>USP</td>\n",
       "      <td>Pistol</td>\n",
       "      <td>76561198055054795</td>\n",
       "      <td>0</td>\n",
       "      <td>76561197961009213</td>\n",
       "      <td>0</td>\n",
       "      <td>-1066.8740</td>\n",
       "      <td>3.44563</td>\n",
       "      <td>-614.1868</td>\n",
       "      <td>-91.707770</td>\n",
       "    </tr>\n",
       "    <tr>\n",
       "      <th>3</th>\n",
       "      <td>esea_match_13770997.dem</td>\n",
       "      <td>1</td>\n",
       "      <td>16066</td>\n",
       "      <td>125.1121</td>\n",
       "      <td>Hentai Hooligans</td>\n",
       "      <td>Animal Style</td>\n",
       "      <td>Terrorist</td>\n",
       "      <td>CounterTerrorist</td>\n",
       "      <td>12</td>\n",
       "      <td>7</td>\n",
       "      <td>...</td>\n",
       "      <td>Glock</td>\n",
       "      <td>Pistol</td>\n",
       "      <td>76561198082200410</td>\n",
       "      <td>0</td>\n",
       "      <td>76561198055054795</td>\n",
       "      <td>0</td>\n",
       "      <td>-747.3146</td>\n",
       "      <td>-49.32681</td>\n",
       "      <td>-1065.5560</td>\n",
       "      <td>9.381622</td>\n",
       "    </tr>\n",
       "    <tr>\n",
       "      <th>4</th>\n",
       "      <td>esea_match_13770997.dem</td>\n",
       "      <td>1</td>\n",
       "      <td>16108</td>\n",
       "      <td>125.4410</td>\n",
       "      <td>Animal Style</td>\n",
       "      <td>Hentai Hooligans</td>\n",
       "      <td>CounterTerrorist</td>\n",
       "      <td>Terrorist</td>\n",
       "      <td>15</td>\n",
       "      <td>7</td>\n",
       "      <td>...</td>\n",
       "      <td>USP</td>\n",
       "      <td>Pistol</td>\n",
       "      <td>76561198048742997</td>\n",
       "      <td>0</td>\n",
       "      <td>76561198082200410</td>\n",
       "      <td>0</td>\n",
       "      <td>-1501.8610</td>\n",
       "      <td>49.19798</td>\n",
       "      <td>-748.4188</td>\n",
       "      <td>-53.469220</td>\n",
       "    </tr>\n",
       "  </tbody>\n",
       "</table>\n",
       "<p>5 rows × 23 columns</p>\n",
       "</div>"
      ],
      "text/plain": [
       "                      file  round   tick   seconds          att_team  \\\n",
       "0  esea_match_13770997.dem      1  14372  111.8476             World   \n",
       "1  esea_match_13770997.dem      1  15972  124.3761      Animal Style   \n",
       "2  esea_match_13770997.dem      1  16058  125.0495      Animal Style   \n",
       "3  esea_match_13770997.dem      1  16066  125.1121  Hentai Hooligans   \n",
       "4  esea_match_13770997.dem      1  16108  125.4410      Animal Style   \n",
       "\n",
       "           vic_team          att_side          vic_side  hp_dmg  arm_dmg  ...  \\\n",
       "0      Animal Style              None  CounterTerrorist       1        0  ...   \n",
       "1  Hentai Hooligans  CounterTerrorist         Terrorist      18        9  ...   \n",
       "2  Hentai Hooligans  CounterTerrorist         Terrorist     100        0  ...   \n",
       "3      Animal Style         Terrorist  CounterTerrorist      12        7  ...   \n",
       "4  Hentai Hooligans  CounterTerrorist         Terrorist      15        7  ...   \n",
       "\n",
       "        wp wp_type             att_id att_rank             vic_id  vic_rank  \\\n",
       "0  Unknown  Unkown                  0        0  76561198055054795         0   \n",
       "1      USP  Pistol  76561198048742997        0  76561198082200410         0   \n",
       "2      USP  Pistol  76561198055054795        0  76561197961009213         0   \n",
       "3    Glock  Pistol  76561198082200410        0  76561198055054795         0   \n",
       "4      USP  Pistol  76561198048742997        0  76561198082200410         0   \n",
       "\n",
       "   att_pos_x  att_pos_y  vic_pos_x  vic_pos_y  \n",
       "0     0.0000    0.00000     0.0000   0.000000  \n",
       "1 -1499.6900   63.33829  -669.5558 -79.769570  \n",
       "2 -1066.8740    3.44563  -614.1868 -91.707770  \n",
       "3  -747.3146  -49.32681 -1065.5560   9.381622  \n",
       "4 -1501.8610   49.19798  -748.4188 -53.469220  \n",
       "\n",
       "[5 rows x 23 columns]"
      ]
     },
     "metadata": {},
     "output_type": "display_data"
    },
    {
     "data": {
      "text/html": [
       "<div>\n",
       "<style scoped>\n",
       "    .dataframe tbody tr th:only-of-type {\n",
       "        vertical-align: middle;\n",
       "    }\n",
       "\n",
       "    .dataframe tbody tr th {\n",
       "        vertical-align: top;\n",
       "    }\n",
       "\n",
       "    .dataframe thead th {\n",
       "        text-align: right;\n",
       "    }\n",
       "</style>\n",
       "<table border=\"1\" class=\"dataframe\">\n",
       "  <thead>\n",
       "    <tr style=\"text-align: right;\">\n",
       "      <th></th>\n",
       "      <th>file</th>\n",
       "      <th>round</th>\n",
       "      <th>tick</th>\n",
       "      <th>seconds</th>\n",
       "      <th>att_team</th>\n",
       "      <th>vic_team</th>\n",
       "      <th>att_side</th>\n",
       "      <th>vic_side</th>\n",
       "      <th>wp</th>\n",
       "      <th>wp_type</th>\n",
       "      <th>ct_alive</th>\n",
       "      <th>t_alive</th>\n",
       "      <th>is_bomb_planted</th>\n",
       "    </tr>\n",
       "  </thead>\n",
       "  <tbody>\n",
       "    <tr>\n",
       "      <th>0</th>\n",
       "      <td>esea_match_13770997.dem</td>\n",
       "      <td>1</td>\n",
       "      <td>16058</td>\n",
       "      <td>30.74165</td>\n",
       "      <td>Animal Style</td>\n",
       "      <td>Hentai Hooligans</td>\n",
       "      <td>CounterTerrorist</td>\n",
       "      <td>Terrorist</td>\n",
       "      <td>USP</td>\n",
       "      <td>Pistol</td>\n",
       "      <td>5</td>\n",
       "      <td>4</td>\n",
       "      <td>False</td>\n",
       "    </tr>\n",
       "    <tr>\n",
       "      <th>1</th>\n",
       "      <td>esea_match_13770997.dem</td>\n",
       "      <td>1</td>\n",
       "      <td>16210</td>\n",
       "      <td>31.93185</td>\n",
       "      <td>Hentai Hooligans</td>\n",
       "      <td>Animal Style</td>\n",
       "      <td>Terrorist</td>\n",
       "      <td>CounterTerrorist</td>\n",
       "      <td>Glock</td>\n",
       "      <td>Pistol</td>\n",
       "      <td>4</td>\n",
       "      <td>4</td>\n",
       "      <td>False</td>\n",
       "    </tr>\n",
       "    <tr>\n",
       "      <th>2</th>\n",
       "      <td>esea_match_13770997.dem</td>\n",
       "      <td>1</td>\n",
       "      <td>16510</td>\n",
       "      <td>34.28094</td>\n",
       "      <td>Hentai Hooligans</td>\n",
       "      <td>Animal Style</td>\n",
       "      <td>Terrorist</td>\n",
       "      <td>CounterTerrorist</td>\n",
       "      <td>Glock</td>\n",
       "      <td>Pistol</td>\n",
       "      <td>3</td>\n",
       "      <td>4</td>\n",
       "      <td>False</td>\n",
       "    </tr>\n",
       "    <tr>\n",
       "      <th>3</th>\n",
       "      <td>esea_match_13770997.dem</td>\n",
       "      <td>1</td>\n",
       "      <td>17104</td>\n",
       "      <td>38.93212</td>\n",
       "      <td>Animal Style</td>\n",
       "      <td>Hentai Hooligans</td>\n",
       "      <td>CounterTerrorist</td>\n",
       "      <td>Terrorist</td>\n",
       "      <td>USP</td>\n",
       "      <td>Pistol</td>\n",
       "      <td>3</td>\n",
       "      <td>3</td>\n",
       "      <td>False</td>\n",
       "    </tr>\n",
       "    <tr>\n",
       "      <th>4</th>\n",
       "      <td>esea_match_13770997.dem</td>\n",
       "      <td>1</td>\n",
       "      <td>17338</td>\n",
       "      <td>40.76441</td>\n",
       "      <td>Hentai Hooligans</td>\n",
       "      <td>Animal Style</td>\n",
       "      <td>Terrorist</td>\n",
       "      <td>CounterTerrorist</td>\n",
       "      <td>Glock</td>\n",
       "      <td>Pistol</td>\n",
       "      <td>2</td>\n",
       "      <td>3</td>\n",
       "      <td>False</td>\n",
       "    </tr>\n",
       "  </tbody>\n",
       "</table>\n",
       "</div>"
      ],
      "text/plain": [
       "                      file  round   tick   seconds          att_team  \\\n",
       "0  esea_match_13770997.dem      1  16058  30.74165      Animal Style   \n",
       "1  esea_match_13770997.dem      1  16210  31.93185  Hentai Hooligans   \n",
       "2  esea_match_13770997.dem      1  16510  34.28094  Hentai Hooligans   \n",
       "3  esea_match_13770997.dem      1  17104  38.93212      Animal Style   \n",
       "4  esea_match_13770997.dem      1  17338  40.76441  Hentai Hooligans   \n",
       "\n",
       "           vic_team          att_side          vic_side     wp wp_type  \\\n",
       "0  Hentai Hooligans  CounterTerrorist         Terrorist    USP  Pistol   \n",
       "1      Animal Style         Terrorist  CounterTerrorist  Glock  Pistol   \n",
       "2      Animal Style         Terrorist  CounterTerrorist  Glock  Pistol   \n",
       "3  Hentai Hooligans  CounterTerrorist         Terrorist    USP  Pistol   \n",
       "4      Animal Style         Terrorist  CounterTerrorist  Glock  Pistol   \n",
       "\n",
       "   ct_alive  t_alive  is_bomb_planted  \n",
       "0         5        4            False  \n",
       "1         4        4            False  \n",
       "2         3        4            False  \n",
       "3         3        3            False  \n",
       "4         2        3            False  "
      ]
     },
     "metadata": {},
     "output_type": "display_data"
    }
   ],
   "source": [
    "display(demo_df.head())\n",
    "display(dmg_df.head())\n",
    "display(kill_df.head())"
   ]
  },
  {
   "cell_type": "code",
   "execution_count": 69,
   "id": "b1bdf693",
   "metadata": {
    "scrolled": true
   },
   "outputs": [
    {
     "data": {
      "text/plain": [
       "Index(['file', 'map', 'round', 'start_seconds', 'end_seconds', 'winner_team',\n",
       "       'winner_side', 'round_type', 'ct_eq_val', 't_eq_val'],\n",
       "      dtype='object')"
      ]
     },
     "metadata": {},
     "output_type": "display_data"
    },
    {
     "data": {
      "text/plain": [
       "Index(['file', 'round', 'tick', 'seconds', 'att_team', 'vic_team', 'att_side',\n",
       "       'vic_side', 'hp_dmg', 'arm_dmg', 'is_bomb_planted', 'bomb_site',\n",
       "       'hitbox', 'wp', 'wp_type', 'att_id', 'att_rank', 'vic_id', 'vic_rank',\n",
       "       'att_pos_x', 'att_pos_y', 'vic_pos_x', 'vic_pos_y'],\n",
       "      dtype='object')"
      ]
     },
     "metadata": {},
     "output_type": "display_data"
    },
    {
     "data": {
      "text/plain": [
       "Index(['file', 'round', 'tick', 'seconds', 'att_team', 'vic_team', 'att_side',\n",
       "       'vic_side', 'wp', 'wp_type', 'ct_alive', 't_alive', 'is_bomb_planted'],\n",
       "      dtype='object')"
      ]
     },
     "metadata": {},
     "output_type": "display_data"
    }
   ],
   "source": [
    "display(demo_df.columns)\n",
    "display(dmg_df.columns)\n",
    "display(kill_df.columns)"
   ]
  },
  {
   "cell_type": "code",
   "execution_count": 70,
   "id": "95192a2e",
   "metadata": {},
   "outputs": [
    {
     "name": "stdout",
     "output_type": "stream",
     "text": [
      "215919\n",
      "5992097\n",
      "1569477\n"
     ]
    }
   ],
   "source": [
    "print(len(demo_df))\n",
    "print(len(dmg_df))\n",
    "print(len(kill_df))"
   ]
  },
  {
   "cell_type": "markdown",
   "id": "4313ffee",
   "metadata": {},
   "source": [
    "Add <b>round_duration</b> by subtracting end-start seconds. We also subtract 15 seconds, which is the intial buy time (to buy equipment) at the start of each round."
   ]
  },
  {
   "cell_type": "code",
   "execution_count": 71,
   "id": "7f01dc1e",
   "metadata": {},
   "outputs": [
    {
     "data": {
      "text/html": [
       "<div>\n",
       "<style scoped>\n",
       "    .dataframe tbody tr th:only-of-type {\n",
       "        vertical-align: middle;\n",
       "    }\n",
       "\n",
       "    .dataframe tbody tr th {\n",
       "        vertical-align: top;\n",
       "    }\n",
       "\n",
       "    .dataframe thead th {\n",
       "        text-align: right;\n",
       "    }\n",
       "</style>\n",
       "<table border=\"1\" class=\"dataframe\">\n",
       "  <thead>\n",
       "    <tr style=\"text-align: right;\">\n",
       "      <th></th>\n",
       "      <th>file</th>\n",
       "      <th>map</th>\n",
       "      <th>round</th>\n",
       "      <th>start_seconds</th>\n",
       "      <th>end_seconds</th>\n",
       "      <th>winner_team</th>\n",
       "      <th>winner_side</th>\n",
       "      <th>round_type</th>\n",
       "      <th>ct_eq_val</th>\n",
       "      <th>t_eq_val</th>\n",
       "      <th>round_duration</th>\n",
       "    </tr>\n",
       "  </thead>\n",
       "  <tbody>\n",
       "    <tr>\n",
       "      <th>0</th>\n",
       "      <td>esea_match_13770997.dem</td>\n",
       "      <td>de_overpass</td>\n",
       "      <td>1</td>\n",
       "      <td>94.30782</td>\n",
       "      <td>160.9591</td>\n",
       "      <td>Hentai Hooligans</td>\n",
       "      <td>Terrorist</td>\n",
       "      <td>PISTOL_ROUND</td>\n",
       "      <td>4300</td>\n",
       "      <td>4250</td>\n",
       "      <td>51.65128</td>\n",
       "    </tr>\n",
       "    <tr>\n",
       "      <th>1</th>\n",
       "      <td>esea_match_13770997.dem</td>\n",
       "      <td>de_overpass</td>\n",
       "      <td>2</td>\n",
       "      <td>160.95910</td>\n",
       "      <td>279.3998</td>\n",
       "      <td>Hentai Hooligans</td>\n",
       "      <td>Terrorist</td>\n",
       "      <td>ECO</td>\n",
       "      <td>6300</td>\n",
       "      <td>19400</td>\n",
       "      <td>103.44070</td>\n",
       "    </tr>\n",
       "    <tr>\n",
       "      <th>2</th>\n",
       "      <td>esea_match_13770997.dem</td>\n",
       "      <td>de_overpass</td>\n",
       "      <td>3</td>\n",
       "      <td>279.39980</td>\n",
       "      <td>341.0084</td>\n",
       "      <td>Hentai Hooligans</td>\n",
       "      <td>Terrorist</td>\n",
       "      <td>SEMI_ECO</td>\n",
       "      <td>7650</td>\n",
       "      <td>19250</td>\n",
       "      <td>46.60860</td>\n",
       "    </tr>\n",
       "    <tr>\n",
       "      <th>3</th>\n",
       "      <td>esea_match_13770997.dem</td>\n",
       "      <td>de_overpass</td>\n",
       "      <td>4</td>\n",
       "      <td>341.00840</td>\n",
       "      <td>435.4259</td>\n",
       "      <td>Hentai Hooligans</td>\n",
       "      <td>Terrorist</td>\n",
       "      <td>NORMAL</td>\n",
       "      <td>24900</td>\n",
       "      <td>23400</td>\n",
       "      <td>79.41750</td>\n",
       "    </tr>\n",
       "    <tr>\n",
       "      <th>4</th>\n",
       "      <td>esea_match_13770997.dem</td>\n",
       "      <td>de_overpass</td>\n",
       "      <td>5</td>\n",
       "      <td>435.42590</td>\n",
       "      <td>484.2398</td>\n",
       "      <td>Animal Style</td>\n",
       "      <td>CounterTerrorist</td>\n",
       "      <td>ECO</td>\n",
       "      <td>5400</td>\n",
       "      <td>20550</td>\n",
       "      <td>33.81390</td>\n",
       "    </tr>\n",
       "  </tbody>\n",
       "</table>\n",
       "</div>"
      ],
      "text/plain": [
       "                      file          map  round  start_seconds  end_seconds  \\\n",
       "0  esea_match_13770997.dem  de_overpass      1       94.30782     160.9591   \n",
       "1  esea_match_13770997.dem  de_overpass      2      160.95910     279.3998   \n",
       "2  esea_match_13770997.dem  de_overpass      3      279.39980     341.0084   \n",
       "3  esea_match_13770997.dem  de_overpass      4      341.00840     435.4259   \n",
       "4  esea_match_13770997.dem  de_overpass      5      435.42590     484.2398   \n",
       "\n",
       "        winner_team       winner_side    round_type  ct_eq_val  t_eq_val  \\\n",
       "0  Hentai Hooligans         Terrorist  PISTOL_ROUND       4300      4250   \n",
       "1  Hentai Hooligans         Terrorist           ECO       6300     19400   \n",
       "2  Hentai Hooligans         Terrorist      SEMI_ECO       7650     19250   \n",
       "3  Hentai Hooligans         Terrorist        NORMAL      24900     23400   \n",
       "4      Animal Style  CounterTerrorist           ECO       5400     20550   \n",
       "\n",
       "   round_duration  \n",
       "0        51.65128  \n",
       "1       103.44070  \n",
       "2        46.60860  \n",
       "3        79.41750  \n",
       "4        33.81390  "
      ]
     },
     "execution_count": 71,
     "metadata": {},
     "output_type": "execute_result"
    }
   ],
   "source": [
    "demo_updated_df = demo_df.assign(round_duration=lambda x: x.end_seconds - x.start_seconds - 15) # 15 seconds is the buying time each round is given\n",
    "demo_updated_df.head()"
   ]
  },
  {
   "cell_type": "markdown",
   "id": "8a902ab7",
   "metadata": {},
   "source": [
    "Add <b>loser_side, t_win and ct_win </b> for easier manipulation of data onwards."
   ]
  },
  {
   "cell_type": "code",
   "execution_count": 72,
   "id": "ec735693",
   "metadata": {
    "scrolled": true
   },
   "outputs": [
    {
     "data": {
      "text/html": [
       "<div>\n",
       "<style scoped>\n",
       "    .dataframe tbody tr th:only-of-type {\n",
       "        vertical-align: middle;\n",
       "    }\n",
       "\n",
       "    .dataframe tbody tr th {\n",
       "        vertical-align: top;\n",
       "    }\n",
       "\n",
       "    .dataframe thead th {\n",
       "        text-align: right;\n",
       "    }\n",
       "</style>\n",
       "<table border=\"1\" class=\"dataframe\">\n",
       "  <thead>\n",
       "    <tr style=\"text-align: right;\">\n",
       "      <th></th>\n",
       "      <th>file</th>\n",
       "      <th>map</th>\n",
       "      <th>round</th>\n",
       "      <th>start_seconds</th>\n",
       "      <th>end_seconds</th>\n",
       "      <th>winner_team</th>\n",
       "      <th>winner_side</th>\n",
       "      <th>round_type</th>\n",
       "      <th>ct_eq_val</th>\n",
       "      <th>t_eq_val</th>\n",
       "      <th>round_duration</th>\n",
       "      <th>loser_side</th>\n",
       "      <th>t_win</th>\n",
       "      <th>ct_win</th>\n",
       "    </tr>\n",
       "  </thead>\n",
       "  <tbody>\n",
       "    <tr>\n",
       "      <th>0</th>\n",
       "      <td>esea_match_13770997.dem</td>\n",
       "      <td>de_overpass</td>\n",
       "      <td>1</td>\n",
       "      <td>94.30782</td>\n",
       "      <td>160.9591</td>\n",
       "      <td>Hentai Hooligans</td>\n",
       "      <td>Terrorist</td>\n",
       "      <td>PISTOL_ROUND</td>\n",
       "      <td>4300</td>\n",
       "      <td>4250</td>\n",
       "      <td>51.65128</td>\n",
       "      <td>CounterTerrorist</td>\n",
       "      <td>True</td>\n",
       "      <td>False</td>\n",
       "    </tr>\n",
       "    <tr>\n",
       "      <th>1</th>\n",
       "      <td>esea_match_13770997.dem</td>\n",
       "      <td>de_overpass</td>\n",
       "      <td>2</td>\n",
       "      <td>160.95910</td>\n",
       "      <td>279.3998</td>\n",
       "      <td>Hentai Hooligans</td>\n",
       "      <td>Terrorist</td>\n",
       "      <td>ECO</td>\n",
       "      <td>6300</td>\n",
       "      <td>19400</td>\n",
       "      <td>103.44070</td>\n",
       "      <td>CounterTerrorist</td>\n",
       "      <td>True</td>\n",
       "      <td>False</td>\n",
       "    </tr>\n",
       "    <tr>\n",
       "      <th>2</th>\n",
       "      <td>esea_match_13770997.dem</td>\n",
       "      <td>de_overpass</td>\n",
       "      <td>3</td>\n",
       "      <td>279.39980</td>\n",
       "      <td>341.0084</td>\n",
       "      <td>Hentai Hooligans</td>\n",
       "      <td>Terrorist</td>\n",
       "      <td>SEMI_ECO</td>\n",
       "      <td>7650</td>\n",
       "      <td>19250</td>\n",
       "      <td>46.60860</td>\n",
       "      <td>CounterTerrorist</td>\n",
       "      <td>True</td>\n",
       "      <td>False</td>\n",
       "    </tr>\n",
       "    <tr>\n",
       "      <th>3</th>\n",
       "      <td>esea_match_13770997.dem</td>\n",
       "      <td>de_overpass</td>\n",
       "      <td>4</td>\n",
       "      <td>341.00840</td>\n",
       "      <td>435.4259</td>\n",
       "      <td>Hentai Hooligans</td>\n",
       "      <td>Terrorist</td>\n",
       "      <td>NORMAL</td>\n",
       "      <td>24900</td>\n",
       "      <td>23400</td>\n",
       "      <td>79.41750</td>\n",
       "      <td>CounterTerrorist</td>\n",
       "      <td>True</td>\n",
       "      <td>False</td>\n",
       "    </tr>\n",
       "    <tr>\n",
       "      <th>4</th>\n",
       "      <td>esea_match_13770997.dem</td>\n",
       "      <td>de_overpass</td>\n",
       "      <td>5</td>\n",
       "      <td>435.42590</td>\n",
       "      <td>484.2398</td>\n",
       "      <td>Animal Style</td>\n",
       "      <td>CounterTerrorist</td>\n",
       "      <td>ECO</td>\n",
       "      <td>5400</td>\n",
       "      <td>20550</td>\n",
       "      <td>33.81390</td>\n",
       "      <td>Terrorist</td>\n",
       "      <td>False</td>\n",
       "      <td>True</td>\n",
       "    </tr>\n",
       "  </tbody>\n",
       "</table>\n",
       "</div>"
      ],
      "text/plain": [
       "                      file          map  round  start_seconds  end_seconds  \\\n",
       "0  esea_match_13770997.dem  de_overpass      1       94.30782     160.9591   \n",
       "1  esea_match_13770997.dem  de_overpass      2      160.95910     279.3998   \n",
       "2  esea_match_13770997.dem  de_overpass      3      279.39980     341.0084   \n",
       "3  esea_match_13770997.dem  de_overpass      4      341.00840     435.4259   \n",
       "4  esea_match_13770997.dem  de_overpass      5      435.42590     484.2398   \n",
       "\n",
       "        winner_team       winner_side    round_type  ct_eq_val  t_eq_val  \\\n",
       "0  Hentai Hooligans         Terrorist  PISTOL_ROUND       4300      4250   \n",
       "1  Hentai Hooligans         Terrorist           ECO       6300     19400   \n",
       "2  Hentai Hooligans         Terrorist      SEMI_ECO       7650     19250   \n",
       "3  Hentai Hooligans         Terrorist        NORMAL      24900     23400   \n",
       "4      Animal Style  CounterTerrorist           ECO       5400     20550   \n",
       "\n",
       "   round_duration        loser_side  t_win  ct_win  \n",
       "0        51.65128  CounterTerrorist   True   False  \n",
       "1       103.44070  CounterTerrorist   True   False  \n",
       "2        46.60860  CounterTerrorist   True   False  \n",
       "3        79.41750  CounterTerrorist   True   False  \n",
       "4        33.81390         Terrorist  False    True  "
      ]
     },
     "execution_count": 72,
     "metadata": {},
     "output_type": "execute_result"
    }
   ],
   "source": [
    "demo_updated_df['loser_side'] = np.where(demo_updated_df['winner_side']== 'Terrorist', 'CounterTerrorist', 'Terrorist')\n",
    "demo_updated_df['t_win'] = np.where(demo_updated_df['winner_side']== 'Terrorist', True, False)\n",
    "demo_updated_df['ct_win'] = np.where(demo_updated_df['winner_side']== 'CounterTerrorist', True, False)\n",
    "demo_updated_df.head()"
   ]
  },
  {
   "cell_type": "markdown",
   "id": "e6937aea",
   "metadata": {},
   "source": [
    "Remove relevant <b>null</b> values."
   ]
  },
  {
   "cell_type": "code",
   "execution_count": 73,
   "id": "4eab82a0",
   "metadata": {},
   "outputs": [
    {
     "data": {
      "text/plain": [
       "file               0\n",
       "map                0\n",
       "round              0\n",
       "start_seconds     20\n",
       "end_seconds       20\n",
       "winner_team        1\n",
       "winner_side        0\n",
       "round_type         0\n",
       "ct_eq_val          0\n",
       "t_eq_val           0\n",
       "round_duration    20\n",
       "loser_side         0\n",
       "t_win              0\n",
       "ct_win             0\n",
       "dtype: int64"
      ]
     },
     "execution_count": 73,
     "metadata": {},
     "output_type": "execute_result"
    }
   ],
   "source": [
    "demo_updated_df.isnull().sum()"
   ]
  },
  {
   "cell_type": "code",
   "execution_count": 74,
   "id": "eab05e01",
   "metadata": {},
   "outputs": [
    {
     "data": {
      "text/plain": [
       "file              0\n",
       "map               0\n",
       "round             0\n",
       "start_seconds     0\n",
       "end_seconds       0\n",
       "winner_team       1\n",
       "winner_side       0\n",
       "round_type        0\n",
       "ct_eq_val         0\n",
       "t_eq_val          0\n",
       "round_duration    0\n",
       "loser_side        0\n",
       "t_win             0\n",
       "ct_win            0\n",
       "dtype: int64"
      ]
     },
     "execution_count": 74,
     "metadata": {},
     "output_type": "execute_result"
    }
   ],
   "source": [
    "demo_updated_df = demo_updated_df[~demo_updated_df['start_seconds'].isnull()]\n",
    "demo_updated_df.isnull().sum()"
   ]
  },
  {
   "cell_type": "markdown",
   "id": "dfc8b736",
   "metadata": {},
   "source": [
    "Some matches has <b>missing rounds</b>, so we <b>remove them</b>."
   ]
  },
  {
   "cell_type": "code",
   "execution_count": 75,
   "id": "a4667ba3",
   "metadata": {},
   "outputs": [
    {
     "data": {
      "text/html": [
       "<div>\n",
       "<style scoped>\n",
       "    .dataframe tbody tr th:only-of-type {\n",
       "        vertical-align: middle;\n",
       "    }\n",
       "\n",
       "    .dataframe tbody tr th {\n",
       "        vertical-align: top;\n",
       "    }\n",
       "\n",
       "    .dataframe thead th {\n",
       "        text-align: right;\n",
       "    }\n",
       "</style>\n",
       "<table border=\"1\" class=\"dataframe\">\n",
       "  <thead>\n",
       "    <tr style=\"text-align: right;\">\n",
       "      <th></th>\n",
       "      <th>file</th>\n",
       "      <th>map</th>\n",
       "      <th>round</th>\n",
       "      <th>start_seconds</th>\n",
       "      <th>end_seconds</th>\n",
       "      <th>winner_team</th>\n",
       "      <th>winner_side</th>\n",
       "      <th>round_type</th>\n",
       "      <th>ct_eq_val</th>\n",
       "      <th>t_eq_val</th>\n",
       "      <th>round_duration</th>\n",
       "      <th>loser_side</th>\n",
       "      <th>t_win</th>\n",
       "      <th>ct_win</th>\n",
       "    </tr>\n",
       "  </thead>\n",
       "  <tbody>\n",
       "    <tr>\n",
       "      <th>19</th>\n",
       "      <td>esea_match_13770997.dem</td>\n",
       "      <td>de_overpass</td>\n",
       "      <td>21</td>\n",
       "      <td>1786.007</td>\n",
       "      <td>1844.938</td>\n",
       "      <td>Hentai Hooligans</td>\n",
       "      <td>CounterTerrorist</td>\n",
       "      <td>NORMAL</td>\n",
       "      <td>31450</td>\n",
       "      <td>26300</td>\n",
       "      <td>43.931</td>\n",
       "      <td>Terrorist</td>\n",
       "      <td>False</td>\n",
       "      <td>True</td>\n",
       "    </tr>\n",
       "    <tr>\n",
       "      <th>20</th>\n",
       "      <td>esea_match_13770997.dem</td>\n",
       "      <td>de_overpass</td>\n",
       "      <td>22</td>\n",
       "      <td>1844.938</td>\n",
       "      <td>1999.946</td>\n",
       "      <td>Animal Style</td>\n",
       "      <td>Terrorist</td>\n",
       "      <td>NORMAL</td>\n",
       "      <td>30200</td>\n",
       "      <td>22050</td>\n",
       "      <td>140.008</td>\n",
       "      <td>CounterTerrorist</td>\n",
       "      <td>True</td>\n",
       "      <td>False</td>\n",
       "    </tr>\n",
       "    <tr>\n",
       "      <th>21</th>\n",
       "      <td>esea_match_13770997.dem</td>\n",
       "      <td>de_overpass</td>\n",
       "      <td>23</td>\n",
       "      <td>1999.946</td>\n",
       "      <td>2100.158</td>\n",
       "      <td>Hentai Hooligans</td>\n",
       "      <td>CounterTerrorist</td>\n",
       "      <td>NORMAL</td>\n",
       "      <td>18200</td>\n",
       "      <td>29300</td>\n",
       "      <td>85.212</td>\n",
       "      <td>Terrorist</td>\n",
       "      <td>False</td>\n",
       "      <td>True</td>\n",
       "    </tr>\n",
       "    <tr>\n",
       "      <th>22</th>\n",
       "      <td>esea_match_13770997.dem</td>\n",
       "      <td>de_overpass</td>\n",
       "      <td>24</td>\n",
       "      <td>2100.158</td>\n",
       "      <td>2157.930</td>\n",
       "      <td>Hentai Hooligans</td>\n",
       "      <td>CounterTerrorist</td>\n",
       "      <td>FORCE_BUY</td>\n",
       "      <td>29100</td>\n",
       "      <td>16150</td>\n",
       "      <td>42.772</td>\n",
       "      <td>Terrorist</td>\n",
       "      <td>False</td>\n",
       "      <td>True</td>\n",
       "    </tr>\n",
       "    <tr>\n",
       "      <th>23</th>\n",
       "      <td>esea_match_13770997.dem</td>\n",
       "      <td>de_overpass</td>\n",
       "      <td>25</td>\n",
       "      <td>2157.930</td>\n",
       "      <td>2207.949</td>\n",
       "      <td>Hentai Hooligans</td>\n",
       "      <td>CounterTerrorist</td>\n",
       "      <td>SEMI_ECO</td>\n",
       "      <td>27800</td>\n",
       "      <td>10900</td>\n",
       "      <td>35.019</td>\n",
       "      <td>Terrorist</td>\n",
       "      <td>False</td>\n",
       "      <td>True</td>\n",
       "    </tr>\n",
       "  </tbody>\n",
       "</table>\n",
       "</div>"
      ],
      "text/plain": [
       "                       file          map  round  start_seconds  end_seconds  \\\n",
       "19  esea_match_13770997.dem  de_overpass     21       1786.007     1844.938   \n",
       "20  esea_match_13770997.dem  de_overpass     22       1844.938     1999.946   \n",
       "21  esea_match_13770997.dem  de_overpass     23       1999.946     2100.158   \n",
       "22  esea_match_13770997.dem  de_overpass     24       2100.158     2157.930   \n",
       "23  esea_match_13770997.dem  de_overpass     25       2157.930     2207.949   \n",
       "\n",
       "         winner_team       winner_side round_type  ct_eq_val  t_eq_val  \\\n",
       "19  Hentai Hooligans  CounterTerrorist     NORMAL      31450     26300   \n",
       "20      Animal Style         Terrorist     NORMAL      30200     22050   \n",
       "21  Hentai Hooligans  CounterTerrorist     NORMAL      18200     29300   \n",
       "22  Hentai Hooligans  CounterTerrorist  FORCE_BUY      29100     16150   \n",
       "23  Hentai Hooligans  CounterTerrorist   SEMI_ECO      27800     10900   \n",
       "\n",
       "    round_duration        loser_side  t_win  ct_win  \n",
       "19          43.931         Terrorist  False    True  \n",
       "20         140.008  CounterTerrorist   True   False  \n",
       "21          85.212         Terrorist  False    True  \n",
       "22          42.772         Terrorist  False    True  \n",
       "23          35.019         Terrorist  False    True  "
      ]
     },
     "execution_count": 75,
     "metadata": {},
     "output_type": "execute_result"
    }
   ],
   "source": [
    "demo_updated_df[demo_updated_df['file']=='esea_match_13770997.dem'].tail() # 25 rounds, but only 23 rows"
   ]
  },
  {
   "cell_type": "code",
   "execution_count": 76,
   "id": "af784366",
   "metadata": {},
   "outputs": [],
   "source": [
    "file_unique = demo_updated_df['file'].unique() \n",
    "incomplete_matches = []\n",
    "\n",
    "# put every match in a list that does not have a complete set of rounds by comparing difference in index and round of min and max\n",
    "for file_name in file_unique:\n",
    "    max_id = demo_updated_df.file.values.searchsorted(file_name, side='right')\n",
    "    min_id = demo_updated_df.file.values.searchsorted(file_name, side='left')\n",
    "    expected_total_rounds = max_id-min_id\n",
    "    actual_rounds = demo_updated_df.iloc[max_id-1]['round']\n",
    "\n",
    "    if (actual_rounds!=expected_total_rounds):\n",
    "        incomplete_matches.append(file_name)\n",
    "\n",
    "# remove incomplete matches\n",
    "demo_clean_df = demo_updated_df[~demo_updated_df['file'].isin(incomplete_matches)]\n",
    "dmg_clean_df = dmg_df[~dmg_df['file'].isin(incomplete_matches)]\n",
    "kill_clean_df = kill_df[~kill_df['file'].isin(incomplete_matches)]"
   ]
  },
  {
   "cell_type": "code",
   "execution_count": 77,
   "id": "19b6e780",
   "metadata": {
    "scrolled": false
   },
   "outputs": [
    {
     "data": {
      "text/html": [
       "<div>\n",
       "<style scoped>\n",
       "    .dataframe tbody tr th:only-of-type {\n",
       "        vertical-align: middle;\n",
       "    }\n",
       "\n",
       "    .dataframe tbody tr th {\n",
       "        vertical-align: top;\n",
       "    }\n",
       "\n",
       "    .dataframe thead th {\n",
       "        text-align: right;\n",
       "    }\n",
       "</style>\n",
       "<table border=\"1\" class=\"dataframe\">\n",
       "  <thead>\n",
       "    <tr style=\"text-align: right;\">\n",
       "      <th></th>\n",
       "      <th>file</th>\n",
       "      <th>map</th>\n",
       "      <th>round</th>\n",
       "      <th>start_seconds</th>\n",
       "      <th>end_seconds</th>\n",
       "      <th>winner_team</th>\n",
       "      <th>winner_side</th>\n",
       "      <th>round_type</th>\n",
       "      <th>ct_eq_val</th>\n",
       "      <th>t_eq_val</th>\n",
       "      <th>round_duration</th>\n",
       "      <th>loser_side</th>\n",
       "      <th>t_win</th>\n",
       "      <th>ct_win</th>\n",
       "    </tr>\n",
       "  </thead>\n",
       "  <tbody>\n",
       "    <tr>\n",
       "      <th>24</th>\n",
       "      <td>esea_match_13779704.dem</td>\n",
       "      <td>de_cache</td>\n",
       "      <td>1</td>\n",
       "      <td>131.2592</td>\n",
       "      <td>188.1189</td>\n",
       "      <td>Team 1</td>\n",
       "      <td>CounterTerrorist</td>\n",
       "      <td>PISTOL_ROUND</td>\n",
       "      <td>4550</td>\n",
       "      <td>3850</td>\n",
       "      <td>41.8597</td>\n",
       "      <td>Terrorist</td>\n",
       "      <td>False</td>\n",
       "      <td>True</td>\n",
       "    </tr>\n",
       "    <tr>\n",
       "      <th>25</th>\n",
       "      <td>esea_match_13779704.dem</td>\n",
       "      <td>de_cache</td>\n",
       "      <td>2</td>\n",
       "      <td>188.1189</td>\n",
       "      <td>274.7697</td>\n",
       "      <td>Team 2</td>\n",
       "      <td>Terrorist</td>\n",
       "      <td>ECO</td>\n",
       "      <td>18450</td>\n",
       "      <td>5300</td>\n",
       "      <td>71.6508</td>\n",
       "      <td>CounterTerrorist</td>\n",
       "      <td>True</td>\n",
       "      <td>False</td>\n",
       "    </tr>\n",
       "    <tr>\n",
       "      <th>26</th>\n",
       "      <td>esea_match_13779704.dem</td>\n",
       "      <td>de_cache</td>\n",
       "      <td>3</td>\n",
       "      <td>274.7697</td>\n",
       "      <td>348.5590</td>\n",
       "      <td>Team 2</td>\n",
       "      <td>Terrorist</td>\n",
       "      <td>SEMI_ECO</td>\n",
       "      <td>9550</td>\n",
       "      <td>22900</td>\n",
       "      <td>58.7893</td>\n",
       "      <td>CounterTerrorist</td>\n",
       "      <td>True</td>\n",
       "      <td>False</td>\n",
       "    </tr>\n",
       "    <tr>\n",
       "      <th>27</th>\n",
       "      <td>esea_match_13779704.dem</td>\n",
       "      <td>de_cache</td>\n",
       "      <td>4</td>\n",
       "      <td>348.5590</td>\n",
       "      <td>419.6258</td>\n",
       "      <td>Team 2</td>\n",
       "      <td>Terrorist</td>\n",
       "      <td>ECO</td>\n",
       "      <td>1600</td>\n",
       "      <td>19650</td>\n",
       "      <td>56.0668</td>\n",
       "      <td>CounterTerrorist</td>\n",
       "      <td>True</td>\n",
       "      <td>False</td>\n",
       "    </tr>\n",
       "    <tr>\n",
       "      <th>28</th>\n",
       "      <td>esea_match_13779704.dem</td>\n",
       "      <td>de_cache</td>\n",
       "      <td>5</td>\n",
       "      <td>419.6258</td>\n",
       "      <td>487.9857</td>\n",
       "      <td>Team 1</td>\n",
       "      <td>CounterTerrorist</td>\n",
       "      <td>NORMAL</td>\n",
       "      <td>23350</td>\n",
       "      <td>21750</td>\n",
       "      <td>53.3599</td>\n",
       "      <td>Terrorist</td>\n",
       "      <td>False</td>\n",
       "      <td>True</td>\n",
       "    </tr>\n",
       "  </tbody>\n",
       "</table>\n",
       "</div>"
      ],
      "text/plain": [
       "                       file       map  round  start_seconds  end_seconds  \\\n",
       "24  esea_match_13779704.dem  de_cache      1       131.2592     188.1189   \n",
       "25  esea_match_13779704.dem  de_cache      2       188.1189     274.7697   \n",
       "26  esea_match_13779704.dem  de_cache      3       274.7697     348.5590   \n",
       "27  esea_match_13779704.dem  de_cache      4       348.5590     419.6258   \n",
       "28  esea_match_13779704.dem  de_cache      5       419.6258     487.9857   \n",
       "\n",
       "   winner_team       winner_side    round_type  ct_eq_val  t_eq_val  \\\n",
       "24      Team 1  CounterTerrorist  PISTOL_ROUND       4550      3850   \n",
       "25      Team 2         Terrorist           ECO      18450      5300   \n",
       "26      Team 2         Terrorist      SEMI_ECO       9550     22900   \n",
       "27      Team 2         Terrorist           ECO       1600     19650   \n",
       "28      Team 1  CounterTerrorist        NORMAL      23350     21750   \n",
       "\n",
       "    round_duration        loser_side  t_win  ct_win  \n",
       "24         41.8597         Terrorist  False    True  \n",
       "25         71.6508  CounterTerrorist   True   False  \n",
       "26         58.7893  CounterTerrorist   True   False  \n",
       "27         56.0668  CounterTerrorist   True   False  \n",
       "28         53.3599         Terrorist  False    True  "
      ]
     },
     "metadata": {},
     "output_type": "display_data"
    },
    {
     "data": {
      "text/html": [
       "<div>\n",
       "<style scoped>\n",
       "    .dataframe tbody tr th:only-of-type {\n",
       "        vertical-align: middle;\n",
       "    }\n",
       "\n",
       "    .dataframe tbody tr th {\n",
       "        vertical-align: top;\n",
       "    }\n",
       "\n",
       "    .dataframe thead th {\n",
       "        text-align: right;\n",
       "    }\n",
       "</style>\n",
       "<table border=\"1\" class=\"dataframe\">\n",
       "  <thead>\n",
       "    <tr style=\"text-align: right;\">\n",
       "      <th></th>\n",
       "      <th>file</th>\n",
       "      <th>round</th>\n",
       "      <th>tick</th>\n",
       "      <th>seconds</th>\n",
       "      <th>att_team</th>\n",
       "      <th>vic_team</th>\n",
       "      <th>att_side</th>\n",
       "      <th>vic_side</th>\n",
       "      <th>hp_dmg</th>\n",
       "      <th>arm_dmg</th>\n",
       "      <th>...</th>\n",
       "      <th>wp</th>\n",
       "      <th>wp_type</th>\n",
       "      <th>att_id</th>\n",
       "      <th>att_rank</th>\n",
       "      <th>vic_id</th>\n",
       "      <th>vic_rank</th>\n",
       "      <th>att_pos_x</th>\n",
       "      <th>att_pos_y</th>\n",
       "      <th>vic_pos_x</th>\n",
       "      <th>vic_pos_y</th>\n",
       "    </tr>\n",
       "  </thead>\n",
       "  <tbody>\n",
       "    <tr>\n",
       "      <th>759</th>\n",
       "      <td>esea_match_13779704.dem</td>\n",
       "      <td>1</td>\n",
       "      <td>20759</td>\n",
       "      <td>161.8639</td>\n",
       "      <td>Team 1</td>\n",
       "      <td>Team 2</td>\n",
       "      <td>CounterTerrorist</td>\n",
       "      <td>Terrorist</td>\n",
       "      <td>15</td>\n",
       "      <td>7</td>\n",
       "      <td>...</td>\n",
       "      <td>USP</td>\n",
       "      <td>Pistol</td>\n",
       "      <td>76561198078736000</td>\n",
       "      <td>0</td>\n",
       "      <td>76561198371993258</td>\n",
       "      <td>0</td>\n",
       "      <td>-170.91130</td>\n",
       "      <td>2002.935</td>\n",
       "      <td>511.5505</td>\n",
       "      <td>1678.621</td>\n",
       "    </tr>\n",
       "    <tr>\n",
       "      <th>760</th>\n",
       "      <td>esea_match_13779704.dem</td>\n",
       "      <td>1</td>\n",
       "      <td>20961</td>\n",
       "      <td>163.4442</td>\n",
       "      <td>Team 1</td>\n",
       "      <td>Team 2</td>\n",
       "      <td>CounterTerrorist</td>\n",
       "      <td>Terrorist</td>\n",
       "      <td>31</td>\n",
       "      <td>0</td>\n",
       "      <td>...</td>\n",
       "      <td>USP</td>\n",
       "      <td>Pistol</td>\n",
       "      <td>76561198078736000</td>\n",
       "      <td>0</td>\n",
       "      <td>76561197962264927</td>\n",
       "      <td>0</td>\n",
       "      <td>-256.35050</td>\n",
       "      <td>1958.900</td>\n",
       "      <td>357.7615</td>\n",
       "      <td>1831.760</td>\n",
       "    </tr>\n",
       "    <tr>\n",
       "      <th>761</th>\n",
       "      <td>esea_match_13779704.dem</td>\n",
       "      <td>1</td>\n",
       "      <td>21001</td>\n",
       "      <td>163.7572</td>\n",
       "      <td>Team 2</td>\n",
       "      <td>Team 1</td>\n",
       "      <td>Terrorist</td>\n",
       "      <td>CounterTerrorist</td>\n",
       "      <td>11</td>\n",
       "      <td>6</td>\n",
       "      <td>...</td>\n",
       "      <td>Glock</td>\n",
       "      <td>Pistol</td>\n",
       "      <td>76561197962264927</td>\n",
       "      <td>0</td>\n",
       "      <td>76561198078736000</td>\n",
       "      <td>0</td>\n",
       "      <td>348.90870</td>\n",
       "      <td>1830.443</td>\n",
       "      <td>-267.8188</td>\n",
       "      <td>1902.607</td>\n",
       "    </tr>\n",
       "    <tr>\n",
       "      <th>762</th>\n",
       "      <td>esea_match_13779704.dem</td>\n",
       "      <td>1</td>\n",
       "      <td>21093</td>\n",
       "      <td>164.4769</td>\n",
       "      <td>Team 1</td>\n",
       "      <td>Team 2</td>\n",
       "      <td>CounterTerrorist</td>\n",
       "      <td>Terrorist</td>\n",
       "      <td>85</td>\n",
       "      <td>0</td>\n",
       "      <td>...</td>\n",
       "      <td>USP</td>\n",
       "      <td>Pistol</td>\n",
       "      <td>76561198242564394</td>\n",
       "      <td>0</td>\n",
       "      <td>76561198371993258</td>\n",
       "      <td>0</td>\n",
       "      <td>55.05295</td>\n",
       "      <td>1413.524</td>\n",
       "      <td>187.1718</td>\n",
       "      <td>1951.511</td>\n",
       "    </tr>\n",
       "    <tr>\n",
       "      <th>763</th>\n",
       "      <td>esea_match_13779704.dem</td>\n",
       "      <td>1</td>\n",
       "      <td>21179</td>\n",
       "      <td>165.1497</td>\n",
       "      <td>Team 1</td>\n",
       "      <td>Team 2</td>\n",
       "      <td>CounterTerrorist</td>\n",
       "      <td>Terrorist</td>\n",
       "      <td>32</td>\n",
       "      <td>0</td>\n",
       "      <td>...</td>\n",
       "      <td>USP</td>\n",
       "      <td>Pistol</td>\n",
       "      <td>76561198242564394</td>\n",
       "      <td>0</td>\n",
       "      <td>76561197962264927</td>\n",
       "      <td>0</td>\n",
       "      <td>68.18559</td>\n",
       "      <td>1411.809</td>\n",
       "      <td>275.8283</td>\n",
       "      <td>1780.951</td>\n",
       "    </tr>\n",
       "  </tbody>\n",
       "</table>\n",
       "<p>5 rows × 23 columns</p>\n",
       "</div>"
      ],
      "text/plain": [
       "                        file  round   tick   seconds att_team vic_team  \\\n",
       "759  esea_match_13779704.dem      1  20759  161.8639   Team 1   Team 2   \n",
       "760  esea_match_13779704.dem      1  20961  163.4442   Team 1   Team 2   \n",
       "761  esea_match_13779704.dem      1  21001  163.7572   Team 2   Team 1   \n",
       "762  esea_match_13779704.dem      1  21093  164.4769   Team 1   Team 2   \n",
       "763  esea_match_13779704.dem      1  21179  165.1497   Team 1   Team 2   \n",
       "\n",
       "             att_side          vic_side  hp_dmg  arm_dmg  ...     wp wp_type  \\\n",
       "759  CounterTerrorist         Terrorist      15        7  ...    USP  Pistol   \n",
       "760  CounterTerrorist         Terrorist      31        0  ...    USP  Pistol   \n",
       "761         Terrorist  CounterTerrorist      11        6  ...  Glock  Pistol   \n",
       "762  CounterTerrorist         Terrorist      85        0  ...    USP  Pistol   \n",
       "763  CounterTerrorist         Terrorist      32        0  ...    USP  Pistol   \n",
       "\n",
       "                att_id att_rank             vic_id  vic_rank  att_pos_x  \\\n",
       "759  76561198078736000        0  76561198371993258         0 -170.91130   \n",
       "760  76561198078736000        0  76561197962264927         0 -256.35050   \n",
       "761  76561197962264927        0  76561198078736000         0  348.90870   \n",
       "762  76561198242564394        0  76561198371993258         0   55.05295   \n",
       "763  76561198242564394        0  76561197962264927         0   68.18559   \n",
       "\n",
       "     att_pos_y  vic_pos_x  vic_pos_y  \n",
       "759   2002.935   511.5505   1678.621  \n",
       "760   1958.900   357.7615   1831.760  \n",
       "761   1830.443  -267.8188   1902.607  \n",
       "762   1413.524   187.1718   1951.511  \n",
       "763   1411.809   275.8283   1780.951  \n",
       "\n",
       "[5 rows x 23 columns]"
      ]
     },
     "metadata": {},
     "output_type": "display_data"
    },
    {
     "data": {
      "text/html": [
       "<div>\n",
       "<style scoped>\n",
       "    .dataframe tbody tr th:only-of-type {\n",
       "        vertical-align: middle;\n",
       "    }\n",
       "\n",
       "    .dataframe tbody tr th {\n",
       "        vertical-align: top;\n",
       "    }\n",
       "\n",
       "    .dataframe thead th {\n",
       "        text-align: right;\n",
       "    }\n",
       "</style>\n",
       "<table border=\"1\" class=\"dataframe\">\n",
       "  <thead>\n",
       "    <tr style=\"text-align: right;\">\n",
       "      <th></th>\n",
       "      <th>file</th>\n",
       "      <th>round</th>\n",
       "      <th>tick</th>\n",
       "      <th>seconds</th>\n",
       "      <th>att_team</th>\n",
       "      <th>vic_team</th>\n",
       "      <th>att_side</th>\n",
       "      <th>vic_side</th>\n",
       "      <th>wp</th>\n",
       "      <th>wp_type</th>\n",
       "      <th>ct_alive</th>\n",
       "      <th>t_alive</th>\n",
       "      <th>is_bomb_planted</th>\n",
       "    </tr>\n",
       "  </thead>\n",
       "  <tbody>\n",
       "    <tr>\n",
       "      <th>184</th>\n",
       "      <td>esea_match_13779704.dem</td>\n",
       "      <td>1</td>\n",
       "      <td>21093</td>\n",
       "      <td>33.21770</td>\n",
       "      <td>Team 1</td>\n",
       "      <td>Team 2</td>\n",
       "      <td>CounterTerrorist</td>\n",
       "      <td>Terrorist</td>\n",
       "      <td>USP</td>\n",
       "      <td>Pistol</td>\n",
       "      <td>5</td>\n",
       "      <td>4</td>\n",
       "      <td>False</td>\n",
       "    </tr>\n",
       "    <tr>\n",
       "      <th>185</th>\n",
       "      <td>esea_match_13779704.dem</td>\n",
       "      <td>1</td>\n",
       "      <td>21251</td>\n",
       "      <td>34.45378</td>\n",
       "      <td>Team 1</td>\n",
       "      <td>Team 2</td>\n",
       "      <td>CounterTerrorist</td>\n",
       "      <td>Terrorist</td>\n",
       "      <td>USP</td>\n",
       "      <td>Pistol</td>\n",
       "      <td>5</td>\n",
       "      <td>3</td>\n",
       "      <td>False</td>\n",
       "    </tr>\n",
       "    <tr>\n",
       "      <th>186</th>\n",
       "      <td>esea_match_13779704.dem</td>\n",
       "      <td>1</td>\n",
       "      <td>21341</td>\n",
       "      <td>35.15788</td>\n",
       "      <td>Team 2</td>\n",
       "      <td>Team 1</td>\n",
       "      <td>Terrorist</td>\n",
       "      <td>CounterTerrorist</td>\n",
       "      <td>Glock</td>\n",
       "      <td>Pistol</td>\n",
       "      <td>4</td>\n",
       "      <td>3</td>\n",
       "      <td>False</td>\n",
       "    </tr>\n",
       "    <tr>\n",
       "      <th>187</th>\n",
       "      <td>esea_match_13779704.dem</td>\n",
       "      <td>1</td>\n",
       "      <td>21883</td>\n",
       "      <td>39.39810</td>\n",
       "      <td>Team 1</td>\n",
       "      <td>Team 2</td>\n",
       "      <td>CounterTerrorist</td>\n",
       "      <td>Terrorist</td>\n",
       "      <td>USP</td>\n",
       "      <td>Pistol</td>\n",
       "      <td>4</td>\n",
       "      <td>2</td>\n",
       "      <td>False</td>\n",
       "    </tr>\n",
       "    <tr>\n",
       "      <th>188</th>\n",
       "      <td>esea_match_13779704.dem</td>\n",
       "      <td>1</td>\n",
       "      <td>23091</td>\n",
       "      <td>48.84865</td>\n",
       "      <td>Team 1</td>\n",
       "      <td>Team 2</td>\n",
       "      <td>CounterTerrorist</td>\n",
       "      <td>Terrorist</td>\n",
       "      <td>USP</td>\n",
       "      <td>Pistol</td>\n",
       "      <td>4</td>\n",
       "      <td>1</td>\n",
       "      <td>False</td>\n",
       "    </tr>\n",
       "  </tbody>\n",
       "</table>\n",
       "</div>"
      ],
      "text/plain": [
       "                        file  round   tick   seconds att_team vic_team  \\\n",
       "184  esea_match_13779704.dem      1  21093  33.21770   Team 1   Team 2   \n",
       "185  esea_match_13779704.dem      1  21251  34.45378   Team 1   Team 2   \n",
       "186  esea_match_13779704.dem      1  21341  35.15788   Team 2   Team 1   \n",
       "187  esea_match_13779704.dem      1  21883  39.39810   Team 1   Team 2   \n",
       "188  esea_match_13779704.dem      1  23091  48.84865   Team 1   Team 2   \n",
       "\n",
       "             att_side          vic_side     wp wp_type  ct_alive  t_alive  \\\n",
       "184  CounterTerrorist         Terrorist    USP  Pistol         5        4   \n",
       "185  CounterTerrorist         Terrorist    USP  Pistol         5        3   \n",
       "186         Terrorist  CounterTerrorist  Glock  Pistol         4        3   \n",
       "187  CounterTerrorist         Terrorist    USP  Pistol         4        2   \n",
       "188  CounterTerrorist         Terrorist    USP  Pistol         4        1   \n",
       "\n",
       "     is_bomb_planted  \n",
       "184            False  \n",
       "185            False  \n",
       "186            False  \n",
       "187            False  \n",
       "188            False  "
      ]
     },
     "metadata": {},
     "output_type": "display_data"
    }
   ],
   "source": [
    "display(demo_clean_df.head())\n",
    "display(dmg_clean_df.head())\n",
    "display(kill_clean_df.head())"
   ]
  },
  {
   "cell_type": "markdown",
   "id": "fc54422b",
   "metadata": {},
   "source": [
    "<b>Merge all dataframes</b> into one big dataframe (to add their columns together)."
   ]
  },
  {
   "cell_type": "code",
   "execution_count": 78,
   "id": "34557cc1",
   "metadata": {},
   "outputs": [
    {
     "data": {
      "text/html": [
       "<div>\n",
       "<style scoped>\n",
       "    .dataframe tbody tr th:only-of-type {\n",
       "        vertical-align: middle;\n",
       "    }\n",
       "\n",
       "    .dataframe tbody tr th {\n",
       "        vertical-align: top;\n",
       "    }\n",
       "\n",
       "    .dataframe thead th {\n",
       "        text-align: right;\n",
       "    }\n",
       "</style>\n",
       "<table border=\"1\" class=\"dataframe\">\n",
       "  <thead>\n",
       "    <tr style=\"text-align: right;\">\n",
       "      <th></th>\n",
       "      <th>file</th>\n",
       "      <th>round</th>\n",
       "      <th>tick</th>\n",
       "      <th>seconds</th>\n",
       "      <th>att_team</th>\n",
       "      <th>vic_team</th>\n",
       "      <th>att_side</th>\n",
       "      <th>vic_side</th>\n",
       "      <th>hp_dmg</th>\n",
       "      <th>arm_dmg</th>\n",
       "      <th>...</th>\n",
       "      <th>wp</th>\n",
       "      <th>wp_type</th>\n",
       "      <th>att_id</th>\n",
       "      <th>vic_id</th>\n",
       "      <th>att_pos_x</th>\n",
       "      <th>att_pos_y</th>\n",
       "      <th>vic_pos_x</th>\n",
       "      <th>vic_pos_y</th>\n",
       "      <th>ct_alive</th>\n",
       "      <th>t_alive</th>\n",
       "    </tr>\n",
       "  </thead>\n",
       "  <tbody>\n",
       "    <tr>\n",
       "      <th>0</th>\n",
       "      <td>esea_match_13779704.dem</td>\n",
       "      <td>1</td>\n",
       "      <td>21093</td>\n",
       "      <td>164.4769</td>\n",
       "      <td>Team 1</td>\n",
       "      <td>Team 2</td>\n",
       "      <td>CounterTerrorist</td>\n",
       "      <td>Terrorist</td>\n",
       "      <td>85</td>\n",
       "      <td>0</td>\n",
       "      <td>...</td>\n",
       "      <td>USP</td>\n",
       "      <td>Pistol</td>\n",
       "      <td>76561198242564394</td>\n",
       "      <td>76561198371993258</td>\n",
       "      <td>55.05295</td>\n",
       "      <td>1413.524</td>\n",
       "      <td>187.1718</td>\n",
       "      <td>1951.511</td>\n",
       "      <td>5</td>\n",
       "      <td>4</td>\n",
       "    </tr>\n",
       "    <tr>\n",
       "      <th>1</th>\n",
       "      <td>esea_match_13779704.dem</td>\n",
       "      <td>1</td>\n",
       "      <td>21251</td>\n",
       "      <td>165.7130</td>\n",
       "      <td>Team 1</td>\n",
       "      <td>Team 2</td>\n",
       "      <td>CounterTerrorist</td>\n",
       "      <td>Terrorist</td>\n",
       "      <td>37</td>\n",
       "      <td>0</td>\n",
       "      <td>...</td>\n",
       "      <td>USP</td>\n",
       "      <td>Pistol</td>\n",
       "      <td>76561198242564394</td>\n",
       "      <td>76561197962264927</td>\n",
       "      <td>60.15099</td>\n",
       "      <td>1415.707</td>\n",
       "      <td>242.1282</td>\n",
       "      <td>1770.468</td>\n",
       "      <td>5</td>\n",
       "      <td>3</td>\n",
       "    </tr>\n",
       "    <tr>\n",
       "      <th>2</th>\n",
       "      <td>esea_match_13779704.dem</td>\n",
       "      <td>1</td>\n",
       "      <td>21341</td>\n",
       "      <td>166.4171</td>\n",
       "      <td>Team 2</td>\n",
       "      <td>Team 1</td>\n",
       "      <td>Terrorist</td>\n",
       "      <td>CounterTerrorist</td>\n",
       "      <td>100</td>\n",
       "      <td>0</td>\n",
       "      <td>...</td>\n",
       "      <td>Glock</td>\n",
       "      <td>Pistol</td>\n",
       "      <td>76561198168699127</td>\n",
       "      <td>76561198242564394</td>\n",
       "      <td>184.84450</td>\n",
       "      <td>1324.460</td>\n",
       "      <td>124.2944</td>\n",
       "      <td>1342.035</td>\n",
       "      <td>4</td>\n",
       "      <td>3</td>\n",
       "    </tr>\n",
       "    <tr>\n",
       "      <th>3</th>\n",
       "      <td>esea_match_13779704.dem</td>\n",
       "      <td>1</td>\n",
       "      <td>21883</td>\n",
       "      <td>170.6573</td>\n",
       "      <td>Team 1</td>\n",
       "      <td>Team 2</td>\n",
       "      <td>CounterTerrorist</td>\n",
       "      <td>Terrorist</td>\n",
       "      <td>100</td>\n",
       "      <td>0</td>\n",
       "      <td>...</td>\n",
       "      <td>USP</td>\n",
       "      <td>Pistol</td>\n",
       "      <td>76561198078736000</td>\n",
       "      <td>76561198121398598</td>\n",
       "      <td>-264.34310</td>\n",
       "      <td>2235.892</td>\n",
       "      <td>600.5919</td>\n",
       "      <td>1621.023</td>\n",
       "      <td>4</td>\n",
       "      <td>2</td>\n",
       "    </tr>\n",
       "    <tr>\n",
       "      <th>4</th>\n",
       "      <td>esea_match_13779704.dem</td>\n",
       "      <td>1</td>\n",
       "      <td>23091</td>\n",
       "      <td>180.1078</td>\n",
       "      <td>Team 1</td>\n",
       "      <td>Team 2</td>\n",
       "      <td>CounterTerrorist</td>\n",
       "      <td>Terrorist</td>\n",
       "      <td>67</td>\n",
       "      <td>0</td>\n",
       "      <td>...</td>\n",
       "      <td>USP</td>\n",
       "      <td>Pistol</td>\n",
       "      <td>76561198235034756</td>\n",
       "      <td>76561198168699127</td>\n",
       "      <td>-929.91270</td>\n",
       "      <td>1230.132</td>\n",
       "      <td>379.8438</td>\n",
       "      <td>1429.177</td>\n",
       "      <td>4</td>\n",
       "      <td>1</td>\n",
       "    </tr>\n",
       "  </tbody>\n",
       "</table>\n",
       "<p>5 rows × 23 columns</p>\n",
       "</div>"
      ],
      "text/plain": [
       "                      file  round   tick   seconds att_team vic_team  \\\n",
       "0  esea_match_13779704.dem      1  21093  164.4769   Team 1   Team 2   \n",
       "1  esea_match_13779704.dem      1  21251  165.7130   Team 1   Team 2   \n",
       "2  esea_match_13779704.dem      1  21341  166.4171   Team 2   Team 1   \n",
       "3  esea_match_13779704.dem      1  21883  170.6573   Team 1   Team 2   \n",
       "4  esea_match_13779704.dem      1  23091  180.1078   Team 1   Team 2   \n",
       "\n",
       "           att_side          vic_side  hp_dmg  arm_dmg  ...     wp wp_type  \\\n",
       "0  CounterTerrorist         Terrorist      85        0  ...    USP  Pistol   \n",
       "1  CounterTerrorist         Terrorist      37        0  ...    USP  Pistol   \n",
       "2         Terrorist  CounterTerrorist     100        0  ...  Glock  Pistol   \n",
       "3  CounterTerrorist         Terrorist     100        0  ...    USP  Pistol   \n",
       "4  CounterTerrorist         Terrorist      67        0  ...    USP  Pistol   \n",
       "\n",
       "              att_id             vic_id  att_pos_x  att_pos_y  vic_pos_x  \\\n",
       "0  76561198242564394  76561198371993258   55.05295   1413.524   187.1718   \n",
       "1  76561198242564394  76561197962264927   60.15099   1415.707   242.1282   \n",
       "2  76561198168699127  76561198242564394  184.84450   1324.460   124.2944   \n",
       "3  76561198078736000  76561198121398598 -264.34310   2235.892   600.5919   \n",
       "4  76561198235034756  76561198168699127 -929.91270   1230.132   379.8438   \n",
       "\n",
       "   vic_pos_y  ct_alive  t_alive  \n",
       "0   1951.511         5        4  \n",
       "1   1770.468         5        3  \n",
       "2   1342.035         4        3  \n",
       "3   1621.023         4        2  \n",
       "4   1429.177         4        1  \n",
       "\n",
       "[5 rows x 23 columns]"
      ]
     },
     "execution_count": 78,
     "metadata": {},
     "output_type": "execute_result"
    }
   ],
   "source": [
    "# add the unique columns of dmg_clean_df to kill_clean_df\n",
    "kill_confirm_df = dmg_clean_df.merge(kill_clean_df, how='inner', on=['file','tick'], suffixes=('', '_DROP')).filter(regex='^(?!.*_DROP)').drop(columns=['att_rank','vic_rank'])\n",
    "kill_confirm_df.head()"
   ]
  },
  {
   "cell_type": "code",
   "execution_count": 79,
   "id": "6a31b23a",
   "metadata": {
    "scrolled": true
   },
   "outputs": [
    {
     "data": {
      "text/html": [
       "<div>\n",
       "<style scoped>\n",
       "    .dataframe tbody tr th:only-of-type {\n",
       "        vertical-align: middle;\n",
       "    }\n",
       "\n",
       "    .dataframe tbody tr th {\n",
       "        vertical-align: top;\n",
       "    }\n",
       "\n",
       "    .dataframe thead th {\n",
       "        text-align: right;\n",
       "    }\n",
       "</style>\n",
       "<table border=\"1\" class=\"dataframe\">\n",
       "  <thead>\n",
       "    <tr style=\"text-align: right;\">\n",
       "      <th></th>\n",
       "      <th>file</th>\n",
       "      <th>round</th>\n",
       "      <th>tick</th>\n",
       "      <th>seconds</th>\n",
       "      <th>att_team</th>\n",
       "      <th>vic_team</th>\n",
       "      <th>att_side</th>\n",
       "      <th>vic_side</th>\n",
       "      <th>hp_dmg</th>\n",
       "      <th>arm_dmg</th>\n",
       "      <th>...</th>\n",
       "      <th>end_seconds</th>\n",
       "      <th>winner_team</th>\n",
       "      <th>winner_side</th>\n",
       "      <th>round_type</th>\n",
       "      <th>ct_eq_val</th>\n",
       "      <th>t_eq_val</th>\n",
       "      <th>round_duration</th>\n",
       "      <th>loser_side</th>\n",
       "      <th>t_win</th>\n",
       "      <th>ct_win</th>\n",
       "    </tr>\n",
       "  </thead>\n",
       "  <tbody>\n",
       "    <tr>\n",
       "      <th>0</th>\n",
       "      <td>esea_match_13779704.dem</td>\n",
       "      <td>1</td>\n",
       "      <td>21093</td>\n",
       "      <td>164.4769</td>\n",
       "      <td>Team 1</td>\n",
       "      <td>Team 2</td>\n",
       "      <td>CounterTerrorist</td>\n",
       "      <td>Terrorist</td>\n",
       "      <td>85</td>\n",
       "      <td>0</td>\n",
       "      <td>...</td>\n",
       "      <td>188.1189</td>\n",
       "      <td>Team 1</td>\n",
       "      <td>CounterTerrorist</td>\n",
       "      <td>PISTOL_ROUND</td>\n",
       "      <td>4550</td>\n",
       "      <td>3850</td>\n",
       "      <td>41.8597</td>\n",
       "      <td>Terrorist</td>\n",
       "      <td>False</td>\n",
       "      <td>True</td>\n",
       "    </tr>\n",
       "    <tr>\n",
       "      <th>1</th>\n",
       "      <td>esea_match_13779704.dem</td>\n",
       "      <td>1</td>\n",
       "      <td>21251</td>\n",
       "      <td>165.7130</td>\n",
       "      <td>Team 1</td>\n",
       "      <td>Team 2</td>\n",
       "      <td>CounterTerrorist</td>\n",
       "      <td>Terrorist</td>\n",
       "      <td>37</td>\n",
       "      <td>0</td>\n",
       "      <td>...</td>\n",
       "      <td>188.1189</td>\n",
       "      <td>Team 1</td>\n",
       "      <td>CounterTerrorist</td>\n",
       "      <td>PISTOL_ROUND</td>\n",
       "      <td>4550</td>\n",
       "      <td>3850</td>\n",
       "      <td>41.8597</td>\n",
       "      <td>Terrorist</td>\n",
       "      <td>False</td>\n",
       "      <td>True</td>\n",
       "    </tr>\n",
       "    <tr>\n",
       "      <th>2</th>\n",
       "      <td>esea_match_13779704.dem</td>\n",
       "      <td>1</td>\n",
       "      <td>21341</td>\n",
       "      <td>166.4171</td>\n",
       "      <td>Team 2</td>\n",
       "      <td>Team 1</td>\n",
       "      <td>Terrorist</td>\n",
       "      <td>CounterTerrorist</td>\n",
       "      <td>100</td>\n",
       "      <td>0</td>\n",
       "      <td>...</td>\n",
       "      <td>188.1189</td>\n",
       "      <td>Team 1</td>\n",
       "      <td>CounterTerrorist</td>\n",
       "      <td>PISTOL_ROUND</td>\n",
       "      <td>4550</td>\n",
       "      <td>3850</td>\n",
       "      <td>41.8597</td>\n",
       "      <td>Terrorist</td>\n",
       "      <td>False</td>\n",
       "      <td>True</td>\n",
       "    </tr>\n",
       "    <tr>\n",
       "      <th>3</th>\n",
       "      <td>esea_match_13779704.dem</td>\n",
       "      <td>1</td>\n",
       "      <td>21883</td>\n",
       "      <td>170.6573</td>\n",
       "      <td>Team 1</td>\n",
       "      <td>Team 2</td>\n",
       "      <td>CounterTerrorist</td>\n",
       "      <td>Terrorist</td>\n",
       "      <td>100</td>\n",
       "      <td>0</td>\n",
       "      <td>...</td>\n",
       "      <td>188.1189</td>\n",
       "      <td>Team 1</td>\n",
       "      <td>CounterTerrorist</td>\n",
       "      <td>PISTOL_ROUND</td>\n",
       "      <td>4550</td>\n",
       "      <td>3850</td>\n",
       "      <td>41.8597</td>\n",
       "      <td>Terrorist</td>\n",
       "      <td>False</td>\n",
       "      <td>True</td>\n",
       "    </tr>\n",
       "    <tr>\n",
       "      <th>4</th>\n",
       "      <td>esea_match_13779704.dem</td>\n",
       "      <td>1</td>\n",
       "      <td>23091</td>\n",
       "      <td>180.1078</td>\n",
       "      <td>Team 1</td>\n",
       "      <td>Team 2</td>\n",
       "      <td>CounterTerrorist</td>\n",
       "      <td>Terrorist</td>\n",
       "      <td>67</td>\n",
       "      <td>0</td>\n",
       "      <td>...</td>\n",
       "      <td>188.1189</td>\n",
       "      <td>Team 1</td>\n",
       "      <td>CounterTerrorist</td>\n",
       "      <td>PISTOL_ROUND</td>\n",
       "      <td>4550</td>\n",
       "      <td>3850</td>\n",
       "      <td>41.8597</td>\n",
       "      <td>Terrorist</td>\n",
       "      <td>False</td>\n",
       "      <td>True</td>\n",
       "    </tr>\n",
       "  </tbody>\n",
       "</table>\n",
       "<p>5 rows × 35 columns</p>\n",
       "</div>"
      ],
      "text/plain": [
       "                      file  round   tick   seconds att_team vic_team  \\\n",
       "0  esea_match_13779704.dem      1  21093  164.4769   Team 1   Team 2   \n",
       "1  esea_match_13779704.dem      1  21251  165.7130   Team 1   Team 2   \n",
       "2  esea_match_13779704.dem      1  21341  166.4171   Team 2   Team 1   \n",
       "3  esea_match_13779704.dem      1  21883  170.6573   Team 1   Team 2   \n",
       "4  esea_match_13779704.dem      1  23091  180.1078   Team 1   Team 2   \n",
       "\n",
       "           att_side          vic_side  hp_dmg  arm_dmg  ...  end_seconds  \\\n",
       "0  CounterTerrorist         Terrorist      85        0  ...     188.1189   \n",
       "1  CounterTerrorist         Terrorist      37        0  ...     188.1189   \n",
       "2         Terrorist  CounterTerrorist     100        0  ...     188.1189   \n",
       "3  CounterTerrorist         Terrorist     100        0  ...     188.1189   \n",
       "4  CounterTerrorist         Terrorist      67        0  ...     188.1189   \n",
       "\n",
       "  winner_team       winner_side    round_type ct_eq_val  t_eq_val  \\\n",
       "0      Team 1  CounterTerrorist  PISTOL_ROUND      4550      3850   \n",
       "1      Team 1  CounterTerrorist  PISTOL_ROUND      4550      3850   \n",
       "2      Team 1  CounterTerrorist  PISTOL_ROUND      4550      3850   \n",
       "3      Team 1  CounterTerrorist  PISTOL_ROUND      4550      3850   \n",
       "4      Team 1  CounterTerrorist  PISTOL_ROUND      4550      3850   \n",
       "\n",
       "   round_duration  loser_side  t_win  ct_win  \n",
       "0         41.8597   Terrorist  False    True  \n",
       "1         41.8597   Terrorist  False    True  \n",
       "2         41.8597   Terrorist  False    True  \n",
       "3         41.8597   Terrorist  False    True  \n",
       "4         41.8597   Terrorist  False    True  \n",
       "\n",
       "[5 rows x 35 columns]"
      ]
     },
     "execution_count": 79,
     "metadata": {},
     "output_type": "execute_result"
    }
   ],
   "source": [
    "# add unique columns of kill_confirm_df to demo_clean_df\n",
    "cleaned_df = kill_confirm_df.merge(demo_clean_df, how='inner', on=['file','round'], suffixes=('', '_DROP')).filter(regex='^(?!.*_DROP)')\n",
    "cleaned_df.head()"
   ]
  },
  {
   "cell_type": "code",
   "execution_count": 80,
   "id": "8eaa689a",
   "metadata": {},
   "outputs": [
    {
     "data": {
      "text/plain": [
       "Index(['file', 'round', 'tick', 'seconds', 'att_team', 'vic_team', 'att_side',\n",
       "       'vic_side', 'hp_dmg', 'arm_dmg', 'is_bomb_planted', 'bomb_site',\n",
       "       'hitbox', 'wp', 'wp_type', 'att_id', 'vic_id', 'att_pos_x', 'att_pos_y',\n",
       "       'vic_pos_x', 'vic_pos_y', 'ct_alive', 't_alive', 'map', 'start_seconds',\n",
       "       'end_seconds', 'winner_team', 'winner_side', 'round_type', 'ct_eq_val',\n",
       "       't_eq_val', 'round_duration', 'loser_side', 't_win', 'ct_win'],\n",
       "      dtype='object')"
      ]
     },
     "execution_count": 80,
     "metadata": {},
     "output_type": "execute_result"
    }
   ],
   "source": [
    "cleaned_df.columns"
   ]
  },
  {
   "cell_type": "code",
   "execution_count": 81,
   "id": "e195596b",
   "metadata": {
    "scrolled": false
   },
   "outputs": [
    {
     "name": "stdout",
     "output_type": "stream",
     "text": [
      "<class 'pandas.core.frame.DataFrame'>\n",
      "Int64Index: 1309137 entries, 0 to 1309136\n",
      "Data columns (total 35 columns):\n",
      " #   Column           Non-Null Count    Dtype  \n",
      "---  ------           --------------    -----  \n",
      " 0   file             1309137 non-null  object \n",
      " 1   round            1309137 non-null  int64  \n",
      " 2   tick             1309137 non-null  int64  \n",
      " 3   seconds          1309137 non-null  float64\n",
      " 4   att_team         1309137 non-null  object \n",
      " 5   vic_team         1309137 non-null  object \n",
      " 6   att_side         1309137 non-null  object \n",
      " 7   vic_side         1309137 non-null  object \n",
      " 8   hp_dmg           1309137 non-null  int64  \n",
      " 9   arm_dmg          1309137 non-null  int64  \n",
      " 10  is_bomb_planted  1309137 non-null  bool   \n",
      " 11  bomb_site        221532 non-null   object \n",
      " 12  hitbox           1309137 non-null  object \n",
      " 13  wp               1309137 non-null  object \n",
      " 14  wp_type          1309137 non-null  object \n",
      " 15  att_id           1309137 non-null  int64  \n",
      " 16  vic_id           1309137 non-null  int64  \n",
      " 17  att_pos_x        1309137 non-null  float64\n",
      " 18  att_pos_y        1309137 non-null  float64\n",
      " 19  vic_pos_x        1309137 non-null  float64\n",
      " 20  vic_pos_y        1309137 non-null  float64\n",
      " 21  ct_alive         1309137 non-null  int64  \n",
      " 22  t_alive          1309137 non-null  int64  \n",
      " 23  map              1309137 non-null  object \n",
      " 24  start_seconds    1309137 non-null  float64\n",
      " 25  end_seconds      1309137 non-null  float64\n",
      " 26  winner_team      1309137 non-null  object \n",
      " 27  winner_side      1309137 non-null  object \n",
      " 28  round_type       1309137 non-null  object \n",
      " 29  ct_eq_val        1309137 non-null  int64  \n",
      " 30  t_eq_val         1309137 non-null  int64  \n",
      " 31  round_duration   1309137 non-null  float64\n",
      " 32  loser_side       1309137 non-null  object \n",
      " 33  t_win            1309137 non-null  bool   \n",
      " 34  ct_win           1309137 non-null  bool   \n",
      "dtypes: bool(3), float64(8), int64(10), object(14)\n",
      "memory usage: 333.3+ MB\n"
     ]
    }
   ],
   "source": [
    "cleaned_df.info()"
   ]
  },
  {
   "cell_type": "code",
   "execution_count": 82,
   "id": "439bc26d",
   "metadata": {
    "scrolled": true
   },
   "outputs": [
    {
     "data": {
      "text/plain": [
       "file                     0\n",
       "round                    0\n",
       "tick                     0\n",
       "seconds                  0\n",
       "att_team                 0\n",
       "vic_team                 0\n",
       "att_side                 0\n",
       "vic_side                 0\n",
       "hp_dmg                   0\n",
       "arm_dmg                  0\n",
       "is_bomb_planted          0\n",
       "bomb_site          1087605\n",
       "hitbox                   0\n",
       "wp                       0\n",
       "wp_type                  0\n",
       "att_id                   0\n",
       "vic_id                   0\n",
       "att_pos_x                0\n",
       "att_pos_y                0\n",
       "vic_pos_x                0\n",
       "vic_pos_y                0\n",
       "ct_alive                 0\n",
       "t_alive                  0\n",
       "map                      0\n",
       "start_seconds            0\n",
       "end_seconds              0\n",
       "winner_team              0\n",
       "winner_side              0\n",
       "round_type               0\n",
       "ct_eq_val                0\n",
       "t_eq_val                 0\n",
       "round_duration           0\n",
       "loser_side               0\n",
       "t_win                    0\n",
       "ct_win                   0\n",
       "dtype: int64"
      ]
     },
     "execution_count": 82,
     "metadata": {},
     "output_type": "execute_result"
    }
   ],
   "source": [
    "cleaned_df.isnull().sum()"
   ]
  },
  {
   "cell_type": "markdown",
   "id": "0b703293",
   "metadata": {},
   "source": [
    "<b>Export clean dataset</b> for use in other notebooks."
   ]
  },
  {
   "cell_type": "code",
   "execution_count": 83,
   "id": "1a7c3e61",
   "metadata": {},
   "outputs": [],
   "source": [
    "#cleaned_df.to_csv(\"dataset/clean.csv\")"
   ]
  },
  {
   "cell_type": "markdown",
   "id": "8f294201",
   "metadata": {},
   "source": [
    "Drop rows and columns to make a <b>new dataframe</b> that shows the <b>round-end stats</b>."
   ]
  },
  {
   "cell_type": "code",
   "execution_count": 84,
   "id": "831230c4",
   "metadata": {},
   "outputs": [
    {
     "data": {
      "text/html": [
       "<div>\n",
       "<style scoped>\n",
       "    .dataframe tbody tr th:only-of-type {\n",
       "        vertical-align: middle;\n",
       "    }\n",
       "\n",
       "    .dataframe tbody tr th {\n",
       "        vertical-align: top;\n",
       "    }\n",
       "\n",
       "    .dataframe thead th {\n",
       "        text-align: right;\n",
       "    }\n",
       "</style>\n",
       "<table border=\"1\" class=\"dataframe\">\n",
       "  <thead>\n",
       "    <tr style=\"text-align: right;\">\n",
       "      <th></th>\n",
       "      <th>file</th>\n",
       "      <th>round</th>\n",
       "      <th>is_bomb_planted</th>\n",
       "      <th>bomb_site</th>\n",
       "      <th>ct_alive</th>\n",
       "      <th>t_alive</th>\n",
       "      <th>map</th>\n",
       "      <th>winner_team</th>\n",
       "      <th>winner_side</th>\n",
       "      <th>round_type</th>\n",
       "      <th>ct_eq_val</th>\n",
       "      <th>t_eq_val</th>\n",
       "      <th>round_duration</th>\n",
       "      <th>loser_side</th>\n",
       "      <th>t_win</th>\n",
       "      <th>ct_win</th>\n",
       "    </tr>\n",
       "  </thead>\n",
       "  <tbody>\n",
       "    <tr>\n",
       "      <th>5</th>\n",
       "      <td>esea_match_13779704.dem</td>\n",
       "      <td>1</td>\n",
       "      <td>False</td>\n",
       "      <td>NaN</td>\n",
       "      <td>4</td>\n",
       "      <td>0</td>\n",
       "      <td>de_cache</td>\n",
       "      <td>Team 1</td>\n",
       "      <td>CounterTerrorist</td>\n",
       "      <td>PISTOL_ROUND</td>\n",
       "      <td>4550</td>\n",
       "      <td>3850</td>\n",
       "      <td>41.8597</td>\n",
       "      <td>Terrorist</td>\n",
       "      <td>False</td>\n",
       "      <td>True</td>\n",
       "    </tr>\n",
       "    <tr>\n",
       "      <th>14</th>\n",
       "      <td>esea_match_13779704.dem</td>\n",
       "      <td>2</td>\n",
       "      <td>False</td>\n",
       "      <td>NaN</td>\n",
       "      <td>0</td>\n",
       "      <td>1</td>\n",
       "      <td>de_cache</td>\n",
       "      <td>Team 2</td>\n",
       "      <td>Terrorist</td>\n",
       "      <td>ECO</td>\n",
       "      <td>18450</td>\n",
       "      <td>5300</td>\n",
       "      <td>71.6508</td>\n",
       "      <td>CounterTerrorist</td>\n",
       "      <td>True</td>\n",
       "      <td>False</td>\n",
       "    </tr>\n",
       "    <tr>\n",
       "      <th>22</th>\n",
       "      <td>esea_match_13779704.dem</td>\n",
       "      <td>3</td>\n",
       "      <td>True</td>\n",
       "      <td>B</td>\n",
       "      <td>0</td>\n",
       "      <td>3</td>\n",
       "      <td>de_cache</td>\n",
       "      <td>Team 2</td>\n",
       "      <td>Terrorist</td>\n",
       "      <td>SEMI_ECO</td>\n",
       "      <td>9550</td>\n",
       "      <td>22900</td>\n",
       "      <td>58.7893</td>\n",
       "      <td>CounterTerrorist</td>\n",
       "      <td>True</td>\n",
       "      <td>False</td>\n",
       "    </tr>\n",
       "    <tr>\n",
       "      <th>28</th>\n",
       "      <td>esea_match_13779704.dem</td>\n",
       "      <td>4</td>\n",
       "      <td>True</td>\n",
       "      <td>A</td>\n",
       "      <td>0</td>\n",
       "      <td>4</td>\n",
       "      <td>de_cache</td>\n",
       "      <td>Team 2</td>\n",
       "      <td>Terrorist</td>\n",
       "      <td>ECO</td>\n",
       "      <td>1600</td>\n",
       "      <td>19650</td>\n",
       "      <td>56.0668</td>\n",
       "      <td>CounterTerrorist</td>\n",
       "      <td>True</td>\n",
       "      <td>False</td>\n",
       "    </tr>\n",
       "    <tr>\n",
       "      <th>35</th>\n",
       "      <td>esea_match_13779704.dem</td>\n",
       "      <td>5</td>\n",
       "      <td>False</td>\n",
       "      <td>NaN</td>\n",
       "      <td>3</td>\n",
       "      <td>0</td>\n",
       "      <td>de_cache</td>\n",
       "      <td>Team 1</td>\n",
       "      <td>CounterTerrorist</td>\n",
       "      <td>NORMAL</td>\n",
       "      <td>23350</td>\n",
       "      <td>21750</td>\n",
       "      <td>53.3599</td>\n",
       "      <td>Terrorist</td>\n",
       "      <td>False</td>\n",
       "      <td>True</td>\n",
       "    </tr>\n",
       "  </tbody>\n",
       "</table>\n",
       "</div>"
      ],
      "text/plain": [
       "                       file  round  is_bomb_planted bomb_site  ct_alive  \\\n",
       "5   esea_match_13779704.dem      1            False       NaN         4   \n",
       "14  esea_match_13779704.dem      2            False       NaN         0   \n",
       "22  esea_match_13779704.dem      3             True         B         0   \n",
       "28  esea_match_13779704.dem      4             True         A         0   \n",
       "35  esea_match_13779704.dem      5            False       NaN         3   \n",
       "\n",
       "    t_alive       map winner_team       winner_side    round_type  ct_eq_val  \\\n",
       "5         0  de_cache      Team 1  CounterTerrorist  PISTOL_ROUND       4550   \n",
       "14        1  de_cache      Team 2         Terrorist           ECO      18450   \n",
       "22        3  de_cache      Team 2         Terrorist      SEMI_ECO       9550   \n",
       "28        4  de_cache      Team 2         Terrorist           ECO       1600   \n",
       "35        0  de_cache      Team 1  CounterTerrorist        NORMAL      23350   \n",
       "\n",
       "    t_eq_val  round_duration        loser_side  t_win  ct_win  \n",
       "5       3850         41.8597         Terrorist  False    True  \n",
       "14      5300         71.6508  CounterTerrorist   True   False  \n",
       "22     22900         58.7893  CounterTerrorist   True   False  \n",
       "28     19650         56.0668  CounterTerrorist   True   False  \n",
       "35     21750         53.3599         Terrorist  False    True  "
      ]
     },
     "execution_count": 84,
     "metadata": {},
     "output_type": "execute_result"
    }
   ],
   "source": [
    "round_end_stats_df = cleaned_df.drop_duplicates(keep='last',subset=['file','round']).drop(columns=['hitbox','wp','wp_type','att_pos_x','att_pos_y','vic_pos_x','vic_pos_y','arm_dmg','hp_dmg','start_seconds','end_seconds','vic_id','att_id','att_team','vic_team','att_side','vic_side','tick','seconds'])\n",
    "round_end_stats_df.head()"
   ]
  },
  {
   "cell_type": "code",
   "execution_count": 85,
   "id": "6845ab0b",
   "metadata": {},
   "outputs": [
    {
     "name": "stdout",
     "output_type": "stream",
     "text": [
      "<class 'pandas.core.frame.DataFrame'>\n",
      "Int64Index: 176768 entries, 5 to 1309136\n",
      "Data columns (total 16 columns):\n",
      " #   Column           Non-Null Count   Dtype  \n",
      "---  ------           --------------   -----  \n",
      " 0   file             176768 non-null  object \n",
      " 1   round            176768 non-null  int64  \n",
      " 2   is_bomb_planted  176768 non-null  bool   \n",
      " 3   bomb_site        82803 non-null   object \n",
      " 4   ct_alive         176768 non-null  int64  \n",
      " 5   t_alive          176768 non-null  int64  \n",
      " 6   map              176768 non-null  object \n",
      " 7   winner_team      176768 non-null  object \n",
      " 8   winner_side      176768 non-null  object \n",
      " 9   round_type       176768 non-null  object \n",
      " 10  ct_eq_val        176768 non-null  int64  \n",
      " 11  t_eq_val         176768 non-null  int64  \n",
      " 12  round_duration   176768 non-null  float64\n",
      " 13  loser_side       176768 non-null  object \n",
      " 14  t_win            176768 non-null  bool   \n",
      " 15  ct_win           176768 non-null  bool   \n",
      "dtypes: bool(3), float64(1), int64(5), object(7)\n",
      "memory usage: 19.4+ MB\n"
     ]
    }
   ],
   "source": [
    "round_end_stats_df.info()"
   ]
  },
  {
   "cell_type": "markdown",
   "id": "9c1843fb",
   "metadata": {},
   "source": [
    "Replace <b>NA</b> in <b>bomb_site</b> column to something more meaningful - \"<b>Not Planted</b>\"."
   ]
  },
  {
   "cell_type": "code",
   "execution_count": 86,
   "id": "6efd62d2",
   "metadata": {},
   "outputs": [
    {
     "data": {
      "text/plain": [
       "file                   0\n",
       "round                  0\n",
       "is_bomb_planted        0\n",
       "bomb_site          93965\n",
       "ct_alive               0\n",
       "t_alive                0\n",
       "map                    0\n",
       "winner_team            0\n",
       "winner_side            0\n",
       "round_type             0\n",
       "ct_eq_val              0\n",
       "t_eq_val               0\n",
       "round_duration         0\n",
       "loser_side             0\n",
       "t_win                  0\n",
       "ct_win                 0\n",
       "dtype: int64"
      ]
     },
     "execution_count": 86,
     "metadata": {},
     "output_type": "execute_result"
    }
   ],
   "source": [
    "round_end_stats_df.isnull().sum()"
   ]
  },
  {
   "cell_type": "code",
   "execution_count": 87,
   "id": "e0499646",
   "metadata": {},
   "outputs": [
    {
     "data": {
      "text/html": [
       "<div>\n",
       "<style scoped>\n",
       "    .dataframe tbody tr th:only-of-type {\n",
       "        vertical-align: middle;\n",
       "    }\n",
       "\n",
       "    .dataframe tbody tr th {\n",
       "        vertical-align: top;\n",
       "    }\n",
       "\n",
       "    .dataframe thead th {\n",
       "        text-align: right;\n",
       "    }\n",
       "</style>\n",
       "<table border=\"1\" class=\"dataframe\">\n",
       "  <thead>\n",
       "    <tr style=\"text-align: right;\">\n",
       "      <th></th>\n",
       "      <th>file</th>\n",
       "      <th>round</th>\n",
       "      <th>is_bomb_planted</th>\n",
       "      <th>bomb_site</th>\n",
       "      <th>ct_alive</th>\n",
       "      <th>t_alive</th>\n",
       "      <th>map</th>\n",
       "      <th>winner_team</th>\n",
       "      <th>winner_side</th>\n",
       "      <th>round_type</th>\n",
       "      <th>ct_eq_val</th>\n",
       "      <th>t_eq_val</th>\n",
       "      <th>round_duration</th>\n",
       "      <th>loser_side</th>\n",
       "      <th>t_win</th>\n",
       "      <th>ct_win</th>\n",
       "    </tr>\n",
       "  </thead>\n",
       "  <tbody>\n",
       "    <tr>\n",
       "      <th>5</th>\n",
       "      <td>esea_match_13779704.dem</td>\n",
       "      <td>1</td>\n",
       "      <td>False</td>\n",
       "      <td>Not Planted</td>\n",
       "      <td>4</td>\n",
       "      <td>0</td>\n",
       "      <td>de_cache</td>\n",
       "      <td>Team 1</td>\n",
       "      <td>CounterTerrorist</td>\n",
       "      <td>PISTOL_ROUND</td>\n",
       "      <td>4550</td>\n",
       "      <td>3850</td>\n",
       "      <td>41.8597</td>\n",
       "      <td>Terrorist</td>\n",
       "      <td>False</td>\n",
       "      <td>True</td>\n",
       "    </tr>\n",
       "    <tr>\n",
       "      <th>14</th>\n",
       "      <td>esea_match_13779704.dem</td>\n",
       "      <td>2</td>\n",
       "      <td>False</td>\n",
       "      <td>Not Planted</td>\n",
       "      <td>0</td>\n",
       "      <td>1</td>\n",
       "      <td>de_cache</td>\n",
       "      <td>Team 2</td>\n",
       "      <td>Terrorist</td>\n",
       "      <td>ECO</td>\n",
       "      <td>18450</td>\n",
       "      <td>5300</td>\n",
       "      <td>71.6508</td>\n",
       "      <td>CounterTerrorist</td>\n",
       "      <td>True</td>\n",
       "      <td>False</td>\n",
       "    </tr>\n",
       "    <tr>\n",
       "      <th>22</th>\n",
       "      <td>esea_match_13779704.dem</td>\n",
       "      <td>3</td>\n",
       "      <td>True</td>\n",
       "      <td>B</td>\n",
       "      <td>0</td>\n",
       "      <td>3</td>\n",
       "      <td>de_cache</td>\n",
       "      <td>Team 2</td>\n",
       "      <td>Terrorist</td>\n",
       "      <td>SEMI_ECO</td>\n",
       "      <td>9550</td>\n",
       "      <td>22900</td>\n",
       "      <td>58.7893</td>\n",
       "      <td>CounterTerrorist</td>\n",
       "      <td>True</td>\n",
       "      <td>False</td>\n",
       "    </tr>\n",
       "    <tr>\n",
       "      <th>28</th>\n",
       "      <td>esea_match_13779704.dem</td>\n",
       "      <td>4</td>\n",
       "      <td>True</td>\n",
       "      <td>A</td>\n",
       "      <td>0</td>\n",
       "      <td>4</td>\n",
       "      <td>de_cache</td>\n",
       "      <td>Team 2</td>\n",
       "      <td>Terrorist</td>\n",
       "      <td>ECO</td>\n",
       "      <td>1600</td>\n",
       "      <td>19650</td>\n",
       "      <td>56.0668</td>\n",
       "      <td>CounterTerrorist</td>\n",
       "      <td>True</td>\n",
       "      <td>False</td>\n",
       "    </tr>\n",
       "    <tr>\n",
       "      <th>35</th>\n",
       "      <td>esea_match_13779704.dem</td>\n",
       "      <td>5</td>\n",
       "      <td>False</td>\n",
       "      <td>Not Planted</td>\n",
       "      <td>3</td>\n",
       "      <td>0</td>\n",
       "      <td>de_cache</td>\n",
       "      <td>Team 1</td>\n",
       "      <td>CounterTerrorist</td>\n",
       "      <td>NORMAL</td>\n",
       "      <td>23350</td>\n",
       "      <td>21750</td>\n",
       "      <td>53.3599</td>\n",
       "      <td>Terrorist</td>\n",
       "      <td>False</td>\n",
       "      <td>True</td>\n",
       "    </tr>\n",
       "    <tr>\n",
       "      <th>...</th>\n",
       "      <td>...</td>\n",
       "      <td>...</td>\n",
       "      <td>...</td>\n",
       "      <td>...</td>\n",
       "      <td>...</td>\n",
       "      <td>...</td>\n",
       "      <td>...</td>\n",
       "      <td>...</td>\n",
       "      <td>...</td>\n",
       "      <td>...</td>\n",
       "      <td>...</td>\n",
       "      <td>...</td>\n",
       "      <td>...</td>\n",
       "      <td>...</td>\n",
       "      <td>...</td>\n",
       "      <td>...</td>\n",
       "    </tr>\n",
       "    <tr>\n",
       "      <th>1309095</th>\n",
       "      <td>esea_match_13793043.dem</td>\n",
       "      <td>14</td>\n",
       "      <td>True</td>\n",
       "      <td>A</td>\n",
       "      <td>0</td>\n",
       "      <td>3</td>\n",
       "      <td>de_cache</td>\n",
       "      <td>Team 2</td>\n",
       "      <td>Terrorist</td>\n",
       "      <td>NORMAL</td>\n",
       "      <td>28400</td>\n",
       "      <td>25800</td>\n",
       "      <td>51.0850</td>\n",
       "      <td>CounterTerrorist</td>\n",
       "      <td>True</td>\n",
       "      <td>False</td>\n",
       "    </tr>\n",
       "    <tr>\n",
       "      <th>1309101</th>\n",
       "      <td>esea_match_13793043.dem</td>\n",
       "      <td>15</td>\n",
       "      <td>False</td>\n",
       "      <td>Not Planted</td>\n",
       "      <td>4</td>\n",
       "      <td>0</td>\n",
       "      <td>de_cache</td>\n",
       "      <td>Team 1</td>\n",
       "      <td>CounterTerrorist</td>\n",
       "      <td>FORCE_BUY</td>\n",
       "      <td>13150</td>\n",
       "      <td>25550</td>\n",
       "      <td>41.8700</td>\n",
       "      <td>Terrorist</td>\n",
       "      <td>False</td>\n",
       "      <td>True</td>\n",
       "    </tr>\n",
       "    <tr>\n",
       "      <th>1309110</th>\n",
       "      <td>esea_match_13793043.dem</td>\n",
       "      <td>16</td>\n",
       "      <td>False</td>\n",
       "      <td>Not Planted</td>\n",
       "      <td>2</td>\n",
       "      <td>0</td>\n",
       "      <td>de_cache</td>\n",
       "      <td>Team 2</td>\n",
       "      <td>CounterTerrorist</td>\n",
       "      <td>PISTOL_ROUND</td>\n",
       "      <td>4200</td>\n",
       "      <td>4250</td>\n",
       "      <td>52.3360</td>\n",
       "      <td>Terrorist</td>\n",
       "      <td>False</td>\n",
       "      <td>True</td>\n",
       "    </tr>\n",
       "    <tr>\n",
       "      <th>1309117</th>\n",
       "      <td>esea_match_13793043.dem</td>\n",
       "      <td>17</td>\n",
       "      <td>False</td>\n",
       "      <td>Not Planted</td>\n",
       "      <td>4</td>\n",
       "      <td>0</td>\n",
       "      <td>de_cache</td>\n",
       "      <td>Team 2</td>\n",
       "      <td>CounterTerrorist</td>\n",
       "      <td>SEMI_ECO</td>\n",
       "      <td>18300</td>\n",
       "      <td>8200</td>\n",
       "      <td>38.9760</td>\n",
       "      <td>Terrorist</td>\n",
       "      <td>False</td>\n",
       "      <td>True</td>\n",
       "    </tr>\n",
       "    <tr>\n",
       "      <th>1309136</th>\n",
       "      <td>esea_match_13793043.dem</td>\n",
       "      <td>18</td>\n",
       "      <td>True</td>\n",
       "      <td>A</td>\n",
       "      <td>1</td>\n",
       "      <td>0</td>\n",
       "      <td>de_cache</td>\n",
       "      <td>Team 2</td>\n",
       "      <td>CounterTerrorist</td>\n",
       "      <td>SEMI_ECO</td>\n",
       "      <td>24400</td>\n",
       "      <td>9950</td>\n",
       "      <td>55.1840</td>\n",
       "      <td>Terrorist</td>\n",
       "      <td>False</td>\n",
       "      <td>True</td>\n",
       "    </tr>\n",
       "  </tbody>\n",
       "</table>\n",
       "<p>176768 rows × 16 columns</p>\n",
       "</div>"
      ],
      "text/plain": [
       "                            file  round  is_bomb_planted    bomb_site  \\\n",
       "5        esea_match_13779704.dem      1            False  Not Planted   \n",
       "14       esea_match_13779704.dem      2            False  Not Planted   \n",
       "22       esea_match_13779704.dem      3             True            B   \n",
       "28       esea_match_13779704.dem      4             True            A   \n",
       "35       esea_match_13779704.dem      5            False  Not Planted   \n",
       "...                          ...    ...              ...          ...   \n",
       "1309095  esea_match_13793043.dem     14             True            A   \n",
       "1309101  esea_match_13793043.dem     15            False  Not Planted   \n",
       "1309110  esea_match_13793043.dem     16            False  Not Planted   \n",
       "1309117  esea_match_13793043.dem     17            False  Not Planted   \n",
       "1309136  esea_match_13793043.dem     18             True            A   \n",
       "\n",
       "         ct_alive  t_alive       map winner_team       winner_side  \\\n",
       "5               4        0  de_cache      Team 1  CounterTerrorist   \n",
       "14              0        1  de_cache      Team 2         Terrorist   \n",
       "22              0        3  de_cache      Team 2         Terrorist   \n",
       "28              0        4  de_cache      Team 2         Terrorist   \n",
       "35              3        0  de_cache      Team 1  CounterTerrorist   \n",
       "...           ...      ...       ...         ...               ...   \n",
       "1309095         0        3  de_cache      Team 2         Terrorist   \n",
       "1309101         4        0  de_cache      Team 1  CounterTerrorist   \n",
       "1309110         2        0  de_cache      Team 2  CounterTerrorist   \n",
       "1309117         4        0  de_cache      Team 2  CounterTerrorist   \n",
       "1309136         1        0  de_cache      Team 2  CounterTerrorist   \n",
       "\n",
       "           round_type  ct_eq_val  t_eq_val  round_duration        loser_side  \\\n",
       "5        PISTOL_ROUND       4550      3850         41.8597         Terrorist   \n",
       "14                ECO      18450      5300         71.6508  CounterTerrorist   \n",
       "22           SEMI_ECO       9550     22900         58.7893  CounterTerrorist   \n",
       "28                ECO       1600     19650         56.0668  CounterTerrorist   \n",
       "35             NORMAL      23350     21750         53.3599         Terrorist   \n",
       "...               ...        ...       ...             ...               ...   \n",
       "1309095        NORMAL      28400     25800         51.0850  CounterTerrorist   \n",
       "1309101     FORCE_BUY      13150     25550         41.8700         Terrorist   \n",
       "1309110  PISTOL_ROUND       4200      4250         52.3360         Terrorist   \n",
       "1309117      SEMI_ECO      18300      8200         38.9760         Terrorist   \n",
       "1309136      SEMI_ECO      24400      9950         55.1840         Terrorist   \n",
       "\n",
       "         t_win  ct_win  \n",
       "5        False    True  \n",
       "14        True   False  \n",
       "22        True   False  \n",
       "28        True   False  \n",
       "35       False    True  \n",
       "...        ...     ...  \n",
       "1309095   True   False  \n",
       "1309101  False    True  \n",
       "1309110  False    True  \n",
       "1309117  False    True  \n",
       "1309136  False    True  \n",
       "\n",
       "[176768 rows x 16 columns]"
      ]
     },
     "execution_count": 87,
     "metadata": {},
     "output_type": "execute_result"
    }
   ],
   "source": [
    "round_end_stats_df['bomb_site'].fillna('Not Planted', inplace = True)\n",
    "round_end_stats_df"
   ]
  },
  {
   "cell_type": "markdown",
   "id": "6893bb65",
   "metadata": {},
   "source": [
    "<b>Export round-end stats dataset</b> for use in other notebooks."
   ]
  },
  {
   "cell_type": "code",
   "execution_count": 88,
   "id": "9ac7ecf4",
   "metadata": {},
   "outputs": [],
   "source": [
    "#round_end_stats_df.to_csv(\"dataset/round_end_stats.csv\")"
   ]
  },
  {
   "cell_type": "markdown",
   "id": "23c6e260",
   "metadata": {},
   "source": [
    "# EDA & Data Representation"
   ]
  },
  {
   "cell_type": "markdown",
   "id": "8147da64",
   "metadata": {},
   "source": [
    "### Separating dataset based on their map locations."
   ]
  },
  {
   "cell_type": "code",
   "execution_count": 89,
   "id": "1ea4c8fa",
   "metadata": {},
   "outputs": [],
   "source": [
    "#seperate df based on maps\n",
    "df_cleaned_sep_df = {}\n",
    "df_round_end_sep_df = {}\n",
    "\n",
    "for map_name in map_dict.keys():\n",
    "    df_cleaned_sep_df[map_name] = cleaned_df[cleaned_df['map']==map_name] \n",
    "    df_round_end_sep_df[map_name] = round_end_stats_df[round_end_stats_df['map']==map_name] \n"
   ]
  },
  {
   "cell_type": "code",
   "execution_count": 90,
   "id": "4518be73",
   "metadata": {
    "scrolled": false
   },
   "outputs": [
    {
     "data": {
      "text/html": [
       "<div>\n",
       "<style scoped>\n",
       "    .dataframe tbody tr th:only-of-type {\n",
       "        vertical-align: middle;\n",
       "    }\n",
       "\n",
       "    .dataframe tbody tr th {\n",
       "        vertical-align: top;\n",
       "    }\n",
       "\n",
       "    .dataframe thead th {\n",
       "        text-align: right;\n",
       "    }\n",
       "</style>\n",
       "<table border=\"1\" class=\"dataframe\">\n",
       "  <thead>\n",
       "    <tr style=\"text-align: right;\">\n",
       "      <th></th>\n",
       "      <th>file</th>\n",
       "      <th>round</th>\n",
       "      <th>tick</th>\n",
       "      <th>seconds</th>\n",
       "      <th>att_team</th>\n",
       "      <th>vic_team</th>\n",
       "      <th>att_side</th>\n",
       "      <th>vic_side</th>\n",
       "      <th>hp_dmg</th>\n",
       "      <th>arm_dmg</th>\n",
       "      <th>...</th>\n",
       "      <th>end_seconds</th>\n",
       "      <th>winner_team</th>\n",
       "      <th>winner_side</th>\n",
       "      <th>round_type</th>\n",
       "      <th>ct_eq_val</th>\n",
       "      <th>t_eq_val</th>\n",
       "      <th>round_duration</th>\n",
       "      <th>loser_side</th>\n",
       "      <th>t_win</th>\n",
       "      <th>ct_win</th>\n",
       "    </tr>\n",
       "  </thead>\n",
       "  <tbody>\n",
       "    <tr>\n",
       "      <th>2320</th>\n",
       "      <td>esea_match_13779798.dem</td>\n",
       "      <td>1</td>\n",
       "      <td>20446</td>\n",
       "      <td>159.3297</td>\n",
       "      <td>Team 2</td>\n",
       "      <td>Team 1</td>\n",
       "      <td>Terrorist</td>\n",
       "      <td>CounterTerrorist</td>\n",
       "      <td>100</td>\n",
       "      <td>0</td>\n",
       "      <td>...</td>\n",
       "      <td>196.2378</td>\n",
       "      <td>Team 2</td>\n",
       "      <td>Terrorist</td>\n",
       "      <td>PISTOL_ROUND</td>\n",
       "      <td>3250</td>\n",
       "      <td>3650</td>\n",
       "      <td>49.6245</td>\n",
       "      <td>CounterTerrorist</td>\n",
       "      <td>True</td>\n",
       "      <td>False</td>\n",
       "    </tr>\n",
       "    <tr>\n",
       "      <th>2321</th>\n",
       "      <td>esea_match_13779798.dem</td>\n",
       "      <td>1</td>\n",
       "      <td>21388</td>\n",
       "      <td>166.7050</td>\n",
       "      <td>Team 2</td>\n",
       "      <td>Team 1</td>\n",
       "      <td>Terrorist</td>\n",
       "      <td>CounterTerrorist</td>\n",
       "      <td>64</td>\n",
       "      <td>0</td>\n",
       "      <td>...</td>\n",
       "      <td>196.2378</td>\n",
       "      <td>Team 2</td>\n",
       "      <td>Terrorist</td>\n",
       "      <td>PISTOL_ROUND</td>\n",
       "      <td>3250</td>\n",
       "      <td>3650</td>\n",
       "      <td>49.6245</td>\n",
       "      <td>CounterTerrorist</td>\n",
       "      <td>True</td>\n",
       "      <td>False</td>\n",
       "    </tr>\n",
       "    <tr>\n",
       "      <th>2322</th>\n",
       "      <td>esea_match_13779798.dem</td>\n",
       "      <td>1</td>\n",
       "      <td>21636</td>\n",
       "      <td>168.6467</td>\n",
       "      <td>Team 2</td>\n",
       "      <td>Team 1</td>\n",
       "      <td>Terrorist</td>\n",
       "      <td>CounterTerrorist</td>\n",
       "      <td>100</td>\n",
       "      <td>0</td>\n",
       "      <td>...</td>\n",
       "      <td>196.2378</td>\n",
       "      <td>Team 2</td>\n",
       "      <td>Terrorist</td>\n",
       "      <td>PISTOL_ROUND</td>\n",
       "      <td>3250</td>\n",
       "      <td>3650</td>\n",
       "      <td>49.6245</td>\n",
       "      <td>CounterTerrorist</td>\n",
       "      <td>True</td>\n",
       "      <td>False</td>\n",
       "    </tr>\n",
       "    <tr>\n",
       "      <th>2323</th>\n",
       "      <td>esea_match_13779798.dem</td>\n",
       "      <td>1</td>\n",
       "      <td>22352</td>\n",
       "      <td>174.2526</td>\n",
       "      <td>Team 1</td>\n",
       "      <td>Team 2</td>\n",
       "      <td>CounterTerrorist</td>\n",
       "      <td>Terrorist</td>\n",
       "      <td>67</td>\n",
       "      <td>0</td>\n",
       "      <td>...</td>\n",
       "      <td>196.2378</td>\n",
       "      <td>Team 2</td>\n",
       "      <td>Terrorist</td>\n",
       "      <td>PISTOL_ROUND</td>\n",
       "      <td>3250</td>\n",
       "      <td>3650</td>\n",
       "      <td>49.6245</td>\n",
       "      <td>CounterTerrorist</td>\n",
       "      <td>True</td>\n",
       "      <td>False</td>\n",
       "    </tr>\n",
       "    <tr>\n",
       "      <th>2324</th>\n",
       "      <td>esea_match_13779798.dem</td>\n",
       "      <td>1</td>\n",
       "      <td>22658</td>\n",
       "      <td>176.6484</td>\n",
       "      <td>Team 1</td>\n",
       "      <td>Team 2</td>\n",
       "      <td>CounterTerrorist</td>\n",
       "      <td>Terrorist</td>\n",
       "      <td>100</td>\n",
       "      <td>0</td>\n",
       "      <td>...</td>\n",
       "      <td>196.2378</td>\n",
       "      <td>Team 2</td>\n",
       "      <td>Terrorist</td>\n",
       "      <td>PISTOL_ROUND</td>\n",
       "      <td>3250</td>\n",
       "      <td>3650</td>\n",
       "      <td>49.6245</td>\n",
       "      <td>CounterTerrorist</td>\n",
       "      <td>True</td>\n",
       "      <td>False</td>\n",
       "    </tr>\n",
       "  </tbody>\n",
       "</table>\n",
       "<p>5 rows × 35 columns</p>\n",
       "</div>"
      ],
      "text/plain": [
       "                         file  round   tick   seconds att_team vic_team  \\\n",
       "2320  esea_match_13779798.dem      1  20446  159.3297   Team 2   Team 1   \n",
       "2321  esea_match_13779798.dem      1  21388  166.7050   Team 2   Team 1   \n",
       "2322  esea_match_13779798.dem      1  21636  168.6467   Team 2   Team 1   \n",
       "2323  esea_match_13779798.dem      1  22352  174.2526   Team 1   Team 2   \n",
       "2324  esea_match_13779798.dem      1  22658  176.6484   Team 1   Team 2   \n",
       "\n",
       "              att_side          vic_side  hp_dmg  arm_dmg  ...  end_seconds  \\\n",
       "2320         Terrorist  CounterTerrorist     100        0  ...     196.2378   \n",
       "2321         Terrorist  CounterTerrorist      64        0  ...     196.2378   \n",
       "2322         Terrorist  CounterTerrorist     100        0  ...     196.2378   \n",
       "2323  CounterTerrorist         Terrorist      67        0  ...     196.2378   \n",
       "2324  CounterTerrorist         Terrorist     100        0  ...     196.2378   \n",
       "\n",
       "     winner_team winner_side    round_type ct_eq_val  t_eq_val  \\\n",
       "2320      Team 2   Terrorist  PISTOL_ROUND      3250      3650   \n",
       "2321      Team 2   Terrorist  PISTOL_ROUND      3250      3650   \n",
       "2322      Team 2   Terrorist  PISTOL_ROUND      3250      3650   \n",
       "2323      Team 2   Terrorist  PISTOL_ROUND      3250      3650   \n",
       "2324      Team 2   Terrorist  PISTOL_ROUND      3250      3650   \n",
       "\n",
       "      round_duration        loser_side  t_win  ct_win  \n",
       "2320         49.6245  CounterTerrorist   True   False  \n",
       "2321         49.6245  CounterTerrorist   True   False  \n",
       "2322         49.6245  CounterTerrorist   True   False  \n",
       "2323         49.6245  CounterTerrorist   True   False  \n",
       "2324         49.6245  CounterTerrorist   True   False  \n",
       "\n",
       "[5 rows x 35 columns]"
      ]
     },
     "metadata": {},
     "output_type": "display_data"
    },
    {
     "data": {
      "text/html": [
       "<div>\n",
       "<style scoped>\n",
       "    .dataframe tbody tr th:only-of-type {\n",
       "        vertical-align: middle;\n",
       "    }\n",
       "\n",
       "    .dataframe tbody tr th {\n",
       "        vertical-align: top;\n",
       "    }\n",
       "\n",
       "    .dataframe thead th {\n",
       "        text-align: right;\n",
       "    }\n",
       "</style>\n",
       "<table border=\"1\" class=\"dataframe\">\n",
       "  <thead>\n",
       "    <tr style=\"text-align: right;\">\n",
       "      <th></th>\n",
       "      <th>file</th>\n",
       "      <th>round</th>\n",
       "      <th>is_bomb_planted</th>\n",
       "      <th>bomb_site</th>\n",
       "      <th>ct_alive</th>\n",
       "      <th>t_alive</th>\n",
       "      <th>map</th>\n",
       "      <th>winner_team</th>\n",
       "      <th>winner_side</th>\n",
       "      <th>round_type</th>\n",
       "      <th>ct_eq_val</th>\n",
       "      <th>t_eq_val</th>\n",
       "      <th>round_duration</th>\n",
       "      <th>loser_side</th>\n",
       "      <th>t_win</th>\n",
       "      <th>ct_win</th>\n",
       "    </tr>\n",
       "  </thead>\n",
       "  <tbody>\n",
       "    <tr>\n",
       "      <th>2328</th>\n",
       "      <td>esea_match_13779798.dem</td>\n",
       "      <td>1</td>\n",
       "      <td>True</td>\n",
       "      <td>A</td>\n",
       "      <td>0</td>\n",
       "      <td>1</td>\n",
       "      <td>de_train</td>\n",
       "      <td>Team 2</td>\n",
       "      <td>Terrorist</td>\n",
       "      <td>PISTOL_ROUND</td>\n",
       "      <td>3250</td>\n",
       "      <td>3650</td>\n",
       "      <td>49.6245</td>\n",
       "      <td>CounterTerrorist</td>\n",
       "      <td>True</td>\n",
       "      <td>False</td>\n",
       "    </tr>\n",
       "    <tr>\n",
       "      <th>2336</th>\n",
       "      <td>esea_match_13779798.dem</td>\n",
       "      <td>2</td>\n",
       "      <td>True</td>\n",
       "      <td>B</td>\n",
       "      <td>0</td>\n",
       "      <td>2</td>\n",
       "      <td>de_train</td>\n",
       "      <td>Team 2</td>\n",
       "      <td>Terrorist</td>\n",
       "      <td>ECO</td>\n",
       "      <td>3150</td>\n",
       "      <td>13050</td>\n",
       "      <td>59.6774</td>\n",
       "      <td>CounterTerrorist</td>\n",
       "      <td>True</td>\n",
       "      <td>False</td>\n",
       "    </tr>\n",
       "    <tr>\n",
       "      <th>2341</th>\n",
       "      <td>esea_match_13779798.dem</td>\n",
       "      <td>3</td>\n",
       "      <td>True</td>\n",
       "      <td>A</td>\n",
       "      <td>0</td>\n",
       "      <td>5</td>\n",
       "      <td>de_train</td>\n",
       "      <td>Team 2</td>\n",
       "      <td>Terrorist</td>\n",
       "      <td>ECO</td>\n",
       "      <td>1600</td>\n",
       "      <td>22900</td>\n",
       "      <td>42.6406</td>\n",
       "      <td>CounterTerrorist</td>\n",
       "      <td>True</td>\n",
       "      <td>False</td>\n",
       "    </tr>\n",
       "    <tr>\n",
       "      <th>2349</th>\n",
       "      <td>esea_match_13779798.dem</td>\n",
       "      <td>4</td>\n",
       "      <td>False</td>\n",
       "      <td>Not Planted</td>\n",
       "      <td>3</td>\n",
       "      <td>0</td>\n",
       "      <td>de_train</td>\n",
       "      <td>Team 1</td>\n",
       "      <td>CounterTerrorist</td>\n",
       "      <td>NORMAL</td>\n",
       "      <td>26050</td>\n",
       "      <td>26450</td>\n",
       "      <td>55.9193</td>\n",
       "      <td>Terrorist</td>\n",
       "      <td>False</td>\n",
       "      <td>True</td>\n",
       "    </tr>\n",
       "    <tr>\n",
       "      <th>2357</th>\n",
       "      <td>esea_match_13779798.dem</td>\n",
       "      <td>5</td>\n",
       "      <td>False</td>\n",
       "      <td>Not Planted</td>\n",
       "      <td>2</td>\n",
       "      <td>0</td>\n",
       "      <td>de_train</td>\n",
       "      <td>Team 1</td>\n",
       "      <td>CounterTerrorist</td>\n",
       "      <td>NORMAL</td>\n",
       "      <td>30500</td>\n",
       "      <td>21500</td>\n",
       "      <td>71.5312</td>\n",
       "      <td>Terrorist</td>\n",
       "      <td>False</td>\n",
       "      <td>True</td>\n",
       "    </tr>\n",
       "  </tbody>\n",
       "</table>\n",
       "</div>"
      ],
      "text/plain": [
       "                         file  round  is_bomb_planted    bomb_site  ct_alive  \\\n",
       "2328  esea_match_13779798.dem      1             True            A         0   \n",
       "2336  esea_match_13779798.dem      2             True            B         0   \n",
       "2341  esea_match_13779798.dem      3             True            A         0   \n",
       "2349  esea_match_13779798.dem      4            False  Not Planted         3   \n",
       "2357  esea_match_13779798.dem      5            False  Not Planted         2   \n",
       "\n",
       "      t_alive       map winner_team       winner_side    round_type  \\\n",
       "2328        1  de_train      Team 2         Terrorist  PISTOL_ROUND   \n",
       "2336        2  de_train      Team 2         Terrorist           ECO   \n",
       "2341        5  de_train      Team 2         Terrorist           ECO   \n",
       "2349        0  de_train      Team 1  CounterTerrorist        NORMAL   \n",
       "2357        0  de_train      Team 1  CounterTerrorist        NORMAL   \n",
       "\n",
       "      ct_eq_val  t_eq_val  round_duration        loser_side  t_win  ct_win  \n",
       "2328       3250      3650         49.6245  CounterTerrorist   True   False  \n",
       "2336       3150     13050         59.6774  CounterTerrorist   True   False  \n",
       "2341       1600     22900         42.6406  CounterTerrorist   True   False  \n",
       "2349      26050     26450         55.9193         Terrorist  False    True  \n",
       "2357      30500     21500         71.5312         Terrorist  False    True  "
      ]
     },
     "metadata": {},
     "output_type": "display_data"
    }
   ],
   "source": [
    "display(df_cleaned_sep_df['de_train'].head())\n",
    "display(df_round_end_sep_df['de_train'].head())"
   ]
  },
  {
   "cell_type": "markdown",
   "id": "fd45f234",
   "metadata": {},
   "source": [
    "___"
   ]
  },
  {
   "cell_type": "markdown",
   "id": "edab8dde",
   "metadata": {},
   "source": [
    "### Lists to be used with <i>interact</i> function"
   ]
  },
  {
   "cell_type": "code",
   "execution_count": 91,
   "id": "7f3e5910",
   "metadata": {},
   "outputs": [],
   "source": [
    "maps = list(df_cleaned_sep_df.keys())\n",
    "\n",
    "sides = ['Both', 'CounterTerrorist', 'Terrorist']\n",
    "\n",
    "weapons = list(cleaned_df['wp'].unique())\n",
    "weapons.remove('Unknown')\n",
    "weapons.insert(0,'ALL')\n",
    "\n",
    "wp_type = list(cleaned_df['wp_type'].unique())\n",
    "wp_type.remove('Unkown')\n",
    "\n",
    "eco_type = ['BOTH','ECO','SEMI_ECO']\n",
    "\n",
    "all_maps = [False,True]"
   ]
  },
  {
   "cell_type": "markdown",
   "id": "4807c236",
   "metadata": {},
   "source": [
    "___"
   ]
  },
  {
   "cell_type": "markdown",
   "id": "c0b6b69e",
   "metadata": {},
   "source": [
    "### Round Duration Stats"
   ]
  },
  {
   "cell_type": "code",
   "execution_count": 92,
   "id": "81b64f90",
   "metadata": {},
   "outputs": [
    {
     "data": {
      "text/html": [
       "<div>\n",
       "<style scoped>\n",
       "    .dataframe tbody tr th:only-of-type {\n",
       "        vertical-align: middle;\n",
       "    }\n",
       "\n",
       "    .dataframe tbody tr th {\n",
       "        vertical-align: top;\n",
       "    }\n",
       "\n",
       "    .dataframe thead th {\n",
       "        text-align: right;\n",
       "    }\n",
       "</style>\n",
       "<table border=\"1\" class=\"dataframe\">\n",
       "  <thead>\n",
       "    <tr style=\"text-align: right;\">\n",
       "      <th></th>\n",
       "      <th>round_duration</th>\n",
       "    </tr>\n",
       "  </thead>\n",
       "  <tbody>\n",
       "    <tr>\n",
       "      <th>count</th>\n",
       "      <td>176768.000000</td>\n",
       "    </tr>\n",
       "    <tr>\n",
       "      <th>mean</th>\n",
       "      <td>72.769620</td>\n",
       "    </tr>\n",
       "    <tr>\n",
       "      <th>std</th>\n",
       "      <td>28.831504</td>\n",
       "    </tr>\n",
       "    <tr>\n",
       "      <th>min</th>\n",
       "      <td>14.731000</td>\n",
       "    </tr>\n",
       "    <tr>\n",
       "      <th>25%</th>\n",
       "      <td>52.688000</td>\n",
       "    </tr>\n",
       "    <tr>\n",
       "      <th>50%</th>\n",
       "      <td>69.039850</td>\n",
       "    </tr>\n",
       "    <tr>\n",
       "      <th>75%</th>\n",
       "      <td>88.373125</td>\n",
       "    </tr>\n",
       "    <tr>\n",
       "      <th>max</th>\n",
       "      <td>1116.185000</td>\n",
       "    </tr>\n",
       "  </tbody>\n",
       "</table>\n",
       "</div>"
      ],
      "text/plain": [
       "       round_duration\n",
       "count   176768.000000\n",
       "mean        72.769620\n",
       "std         28.831504\n",
       "min         14.731000\n",
       "25%         52.688000\n",
       "50%         69.039850\n",
       "75%         88.373125\n",
       "max       1116.185000"
      ]
     },
     "execution_count": 92,
     "metadata": {},
     "output_type": "execute_result"
    },
    {
     "data": {
      "image/png": "[encoded data removed]",
      "text/plain": [
       "<Figure size 2400x400 with 1 Axes>"
      ]
     },
     "metadata": {},
     "output_type": "display_data"
    }
   ],
   "source": [
    "f = plt.figure(figsize=(24, 4))\n",
    "rd = round_end_stats_df[['round_duration']]\n",
    "sb.boxplot(data = rd, orient = \"h\")\n",
    "rd.describe()"
   ]
  },
  {
   "cell_type": "markdown",
   "id": "e1c33e23",
   "metadata": {},
   "source": [
    "We see that there's a lot of outliers. We realise that the round duration includes the timeout for each game. A timeout is called when there is a technical issue with one of the players. We remove these rounds that used a timeout.\n"
   ]
  },
  {
   "cell_type": "code",
   "execution_count": 93,
   "id": "8226fd51",
   "metadata": {},
   "outputs": [],
   "source": [
    "def remove_outliers(df,key):\n",
    "    q1 = df[key].quantile(q=0.25)\n",
    "    q3 = df[key].quantile(q=0.75)\n",
    "    iqr = q3-q1\n",
    "    leftOutlier = q1-1.5*iqr\n",
    "    rightOutlier = q3+1.5*iqr\n",
    "    df_filtered = df[(df[key] < rightOutlier) & (df[key] > leftOutlier)]\n",
    "    return df_filtered"
   ]
  },
  {
   "cell_type": "code",
   "execution_count": 94,
   "id": "76e7fc96",
   "metadata": {
    "scrolled": false
   },
   "outputs": [
    {
     "data": {
      "text/html": [
       "<div>\n",
       "<style scoped>\n",
       "    .dataframe tbody tr th:only-of-type {\n",
       "        vertical-align: middle;\n",
       "    }\n",
       "\n",
       "    .dataframe tbody tr th {\n",
       "        vertical-align: top;\n",
       "    }\n",
       "\n",
       "    .dataframe thead th {\n",
       "        text-align: right;\n",
       "    }\n",
       "</style>\n",
       "<table border=\"1\" class=\"dataframe\">\n",
       "  <thead>\n",
       "    <tr style=\"text-align: right;\">\n",
       "      <th></th>\n",
       "      <th>round_duration</th>\n",
       "    </tr>\n",
       "  </thead>\n",
       "  <tbody>\n",
       "    <tr>\n",
       "      <th>count</th>\n",
       "      <td>174379.000000</td>\n",
       "    </tr>\n",
       "    <tr>\n",
       "      <th>mean</th>\n",
       "      <td>71.101416</td>\n",
       "    </tr>\n",
       "    <tr>\n",
       "      <th>std</th>\n",
       "      <td>24.338956</td>\n",
       "    </tr>\n",
       "    <tr>\n",
       "      <th>min</th>\n",
       "      <td>14.731000</td>\n",
       "    </tr>\n",
       "    <tr>\n",
       "      <th>25%</th>\n",
       "      <td>52.449850</td>\n",
       "    </tr>\n",
       "    <tr>\n",
       "      <th>50%</th>\n",
       "      <td>68.555000</td>\n",
       "    </tr>\n",
       "    <tr>\n",
       "      <th>75%</th>\n",
       "      <td>87.407300</td>\n",
       "    </tr>\n",
       "    <tr>\n",
       "      <th>max</th>\n",
       "      <td>141.899000</td>\n",
       "    </tr>\n",
       "  </tbody>\n",
       "</table>\n",
       "</div>"
      ],
      "text/plain": [
       "       round_duration\n",
       "count   174379.000000\n",
       "mean        71.101416\n",
       "std         24.338956\n",
       "min         14.731000\n",
       "25%         52.449850\n",
       "50%         68.555000\n",
       "75%         87.407300\n",
       "max        141.899000"
      ]
     },
     "execution_count": 94,
     "metadata": {},
     "output_type": "execute_result"
    },
    {
     "data": {
      "image/png": "[encoded data removed]",
      "text/plain": [
       "<Figure size 2400x400 with 1 Axes>"
      ]
     },
     "metadata": {},
     "output_type": "display_data"
    }
   ],
   "source": [
    "rd_no_outliers = remove_outliers(rd,'round_duration')\n",
    "f = plt.figure(figsize=(24, 4))\n",
    "sb.boxplot(data = rd_no_outliers, orient = \"h\")\n",
    "rd_no_outliers.describe()"
   ]
  },
  {
   "cell_type": "markdown",
   "id": "2826e77b",
   "metadata": {},
   "source": [
    "After reducing the skew, we can see that the fastest round is about 15 seconds, with the longest being 142 seconds. On average, each round lasts 69 seconds."
   ]
  },
  {
   "cell_type": "markdown",
   "id": "51521db5",
   "metadata": {},
   "source": [
    "___"
   ]
  },
  {
   "cell_type": "markdown",
   "id": "a7ced125",
   "metadata": {},
   "source": [
    "### Likely Side to Win as time passes"
   ]
  },
  {
   "cell_type": "code",
   "execution_count": 95,
   "id": "bc648ab7",
   "metadata": {},
   "outputs": [
    {
     "data": {
      "text/plain": [
       "<AxesSubplot:xlabel='round_duration', ylabel='Count'>"
      ]
     },
     "execution_count": 95,
     "metadata": {},
     "output_type": "execute_result"
    },
    {
     "data": {
      "image/png": "[encoded data removed]",
      "text/plain": [
       "<Figure size 2000x400 with 1 Axes>"
      ]
     },
     "metadata": {},
     "output_type": "display_data"
    }
   ],
   "source": [
    "time_win = remove_outliers(round_end_stats_df[[\"winner_side\",\"round_duration\"]],'round_duration')\n",
    "time_win['round_duration'] = time_win['round_duration'].round(decimals=0)\n",
    "f = plt.figure(figsize=(20,4))\n",
    "sb.histplot(data=time_win, x=\"round_duration\", hue=\"winner_side\")"
   ]
  },
  {
   "cell_type": "markdown",
   "id": "0174665f",
   "metadata": {},
   "source": [
    "Counter Terrorists are likely to win in the earlier time of the round, until about 40 seconds. </br>\n",
    "Terrorists are then more likely to win from 40 seconds, all the way until about 100 seconds. </br>\n",
    "Counter Terrorists then has a chance to win again from 100 seconds to 120 seconds."
   ]
  },
  {
   "cell_type": "markdown",
   "id": "9f3814f0",
   "metadata": {},
   "source": [
    "___"
   ]
  },
  {
   "cell_type": "markdown",
   "id": "703c01a2",
   "metadata": {},
   "source": [
    "### Likely Side to Win based on map"
   ]
  },
  {
   "cell_type": "code",
   "execution_count": 96,
   "id": "5313b8be",
   "metadata": {},
   "outputs": [],
   "source": [
    "def side_to_win(Map):\n",
    "    df = df_round_end_sep_df[Map]\n",
    "    winner_side = df['winner_side']\n",
    "    print(winner_side.value_counts().sort_index())\n",
    "    sb.catplot(x='winner_side',data = df.sort_values('winner_side'), kind = \"count\")\n",
    "    \n",
    "    ct = winner_side.value_counts().sort_index()[0]\n",
    "    t = winner_side.value_counts().sort_index()[1]\n",
    "    diff = abs(ct-t)/(ct+t)*100\n",
    "    \n",
    "    print()\n",
    "    if (ct<t):\n",
    "        print(\"Terrorists are {}% likelier to win.\".format(round(diff,2)))\n",
    "    elif (ct>t):\n",
    "        print(\"Counter-Terrorists are {}% likelier to win.\".format(round(diff,2)))\n",
    "    else:\n",
    "        print(\"Both sides have equal chance at winning.\")\n",
    "        \n",
    "    plt.show()\n",
    "    print()"
   ]
  },
  {
   "cell_type": "code",
   "execution_count": 97,
   "id": "eaf5088b",
   "metadata": {},
   "outputs": [
    {
     "name": "stdout",
     "output_type": "stream",
     "text": [
      "           _________________________\n",
      "          |                         |\n",
      "          |  --Select Parameters--  |\n",
      "          |_________________________|\n",
      "\n"
     ]
    },
    {
     "data": {
      "application/vnd.jupyter.widget-view+json": {
       "model_id": "11d22e37c53b4c83859a2f613bcd12a0",
       "version_major": 2,
       "version_minor": 0
      },
      "text/plain": [
       "interactive(children=(Dropdown(description='Map', options=('de_cache', 'de_cbble', 'de_dust2', 'de_inferno', '…"
      ]
     },
     "metadata": {},
     "output_type": "display_data"
    },
    {
     "data": {
      "text/plain": [
       "<function __main__.side_to_win(Map)>"
      ]
     },
     "execution_count": 97,
     "metadata": {},
     "output_type": "execute_result"
    }
   ],
   "source": [
    "print(\"           _________________________\")\n",
    "print(\"          |                         |\")\n",
    "print(\"          |  --Select Parameters--  |\")\n",
    "print(\"          |_________________________|\")\n",
    "print(\"\")\n",
    "\n",
    "interact(side_to_win, Map = maps)"
   ]
  },
  {
   "cell_type": "markdown",
   "id": "29b12e8e",
   "metadata": {},
   "source": [
    "___"
   ]
  },
  {
   "cell_type": "markdown",
   "id": "a6b14bda",
   "metadata": {},
   "source": [
    "### Find out which bomb_site is better for a <i>Terrorist Team</i> to plant their bomb to win."
   ]
  },
  {
   "cell_type": "code",
   "execution_count": 98,
   "id": "768f23c6",
   "metadata": {
    "scrolled": false
   },
   "outputs": [],
   "source": [
    "def bombplant(Map):\n",
    "    df = df_round_end_sep_df[Map]\n",
    "    df = df[['is_bomb_planted','t_win','bomb_site','ct_win']]\n",
    "    bomb_planted_t_win = df[df['t_win']].sort_values(axis=0,by='bomb_site')\n",
    "    \n",
    "    print(bomb_planted_t_win['bomb_site'].value_counts().sort_index())\n",
    "    a_plant = bomb_planted_t_win['bomb_site'].value_counts().sort_index()[0]\n",
    "    b_plant = bomb_planted_t_win['bomb_site'].value_counts().sort_index()[1]\n",
    "    diff = abs(a_plant-b_plant)/(a_plant+b_plant)*100\n",
    "    \n",
    "    print()\n",
    "    if (a_plant>b_plant):\n",
    "        print(\"Planting in Bombsite A has a {}% better chance at winning than planting at Bombsite B.\".format(round(diff,2)))\n",
    "    elif (a_plant<b_plant):\n",
    "        print(\"Planting in Bombsite B has a {}% better chance at winning than planting at Bombsite A.\".format(round(diff,2)))\n",
    "    else:\n",
    "        print(\"Both sides have equal chance at winning.\")\n",
    "  \n",
    "    sb.catplot(y = \"bomb_site\", data = bomb_planted_t_win, kind = \"count\")\n",
    "    plt.show()\n",
    "    print()\n",
    " "
   ]
  },
  {
   "cell_type": "code",
   "execution_count": 99,
   "id": "a8544f1d",
   "metadata": {
    "scrolled": false
   },
   "outputs": [
    {
     "name": "stdout",
     "output_type": "stream",
     "text": [
      "           _________________________\n",
      "          |                         |\n",
      "          |  --Select Parameters--  |\n",
      "          |_________________________|\n",
      "\n"
     ]
    },
    {
     "data": {
      "application/vnd.jupyter.widget-view+json": {
       "model_id": "08044f8a33464ccc851cdb5fbb0f1b46",
       "version_major": 2,
       "version_minor": 0
      },
      "text/plain": [
       "interactive(children=(Dropdown(description='Map', options=('de_cache', 'de_cbble', 'de_dust2', 'de_inferno', '…"
      ]
     },
     "metadata": {},
     "output_type": "display_data"
    },
    {
     "data": {
      "text/plain": [
       "<function __main__.bombplant(Map)>"
      ]
     },
     "execution_count": 99,
     "metadata": {},
     "output_type": "execute_result"
    }
   ],
   "source": [
    "print(\"           _________________________\")\n",
    "print(\"          |                         |\")\n",
    "print(\"          |  --Select Parameters--  |\")\n",
    "print(\"          |_________________________|\")\n",
    "print(\"\")\n",
    "\n",
    "interact(bombplant, Map = maps)"
   ]
  },
  {
   "cell_type": "markdown",
   "id": "0dc22682",
   "metadata": {},
   "source": [
    "___"
   ]
  },
  {
   "cell_type": "markdown",
   "id": "3da121ea",
   "metadata": {},
   "source": [
    "### Eco vs Semi-Eco Win Rate"
   ]
  },
  {
   "cell_type": "code",
   "execution_count": 100,
   "id": "9080667e",
   "metadata": {},
   "outputs": [],
   "source": [
    "def eco_map(Map,eco_type):\n",
    "    df_value = df_round_end_sep_df[Map]\n",
    "        \n",
    "    df_value =  df_value[['winner_side','ct_eq_val','t_eq_val','round_type']]\n",
    "    df_value['eco_side'] = np.where(df_value['ct_eq_val']<df_value['t_eq_val'], 'CounterTerrorist', 'Terrorist')\n",
    "    df_value['eco_win'] = np.where(df_value['winner_side']==df_value['eco_side'], True, False)\n",
    "    \n",
    "    if eco_type!='BOTH':\n",
    "        df_eco = df_value[df_value['round_type']==eco_type]\n",
    "    else:\n",
    "        df_eco = df_value[df_value['round_type'].isin(['ECO','SEMI_ECO'])]\n",
    "    \n",
    "    df_eco = df_eco[['eco_side','eco_win']].sort_values(axis=0,by='eco_side')\n",
    "    \n",
    "    print(df_eco[['eco_side','eco_win']].value_counts().sort_index())\n",
    "    \n",
    "    eco_list = list(df_eco[['eco_side','eco_win']].value_counts().sort_index())\n",
    "    \n",
    "    ct_no_win = eco_list[0]\n",
    "    ct_win = eco_list[1]\n",
    "    ct_diff = round(abs(ct_win)/(ct_no_win+ct_win)*100,2)\n",
    "    \n",
    "    t_no_win = eco_list[2]\n",
    "    t_win = eco_list[3]\n",
    "    t_diff = round(abs(t_win)/(t_no_win+t_win)*100,2) \n",
    "    \n",
    "    \n",
    "    print()\n",
    "    print(\"Counter Terrorists has a {}% chance of winning in {} rounds.\".format(ct_diff,eco_type))\n",
    "    print(\"Terrorists has a {}% chance of winning in {} rounds.\".format(t_diff,eco_type))\n",
    "    \n",
    "    df_eco.describe()\n",
    "    sb.catplot(y = \"eco_side\", data = df_eco, hue='eco_win', kind = \"count\", orient='h')"
   ]
  },
  {
   "cell_type": "code",
   "execution_count": 101,
   "id": "ab2539ea",
   "metadata": {
    "scrolled": false
   },
   "outputs": [
    {
     "name": "stdout",
     "output_type": "stream",
     "text": [
      "           _________________________\n",
      "          |                         |\n",
      "          |  --Select Parameters--  |\n",
      "          |_________________________|\n",
      "\n"
     ]
    },
    {
     "data": {
      "application/vnd.jupyter.widget-view+json": {
       "model_id": "66e364bd7380442ebdf622be993c556c",
       "version_major": 2,
       "version_minor": 0
      },
      "text/plain": [
       "interactive(children=(Dropdown(description='Map', options=('de_cache', 'de_cbble', 'de_dust2', 'de_inferno', '…"
      ]
     },
     "metadata": {},
     "output_type": "display_data"
    }
   ],
   "source": [
    "print(\"           _________________________\")\n",
    "print(\"          |                         |\")\n",
    "print(\"          |  --Select Parameters--  |\")\n",
    "print(\"          |_________________________|\")\n",
    "print(\"\")\n",
    "\n",
    "interact(eco_map, Map = maps, eco_type=eco_type)\n",
    "import warnings\n",
    "warnings.filterwarnings('ignore')"
   ]
  },
  {
   "cell_type": "markdown",
   "id": "8bfd68db",
   "metadata": {},
   "source": [
    "We see that on average, teams has at least a <b>10% better chance of winning</b> if they decide to <b>semi-eco</b>, which is when 1 or 2 players buy guns and armor, rather than nobody buying anything (in an eco round)."
   ]
  },
  {
   "cell_type": "markdown",
   "id": "02116da9",
   "metadata": {},
   "source": [
    "___"
   ]
  },
  {
   "cell_type": "markdown",
   "id": "3df6fd1e",
   "metadata": {},
   "source": [
    "### Scatter plot will be shown with respect to the map selected\n",
    "#### Areas with a higher density should be avoided"
   ]
  },
  {
   "cell_type": "code",
   "execution_count": 102,
   "id": "2ce1d7df",
   "metadata": {
    "scrolled": false
   },
   "outputs": [],
   "source": [
    "def plotheat(Map,Team,Weapon):\n",
    "\n",
    "    endx = map_dict[Map]['EndX']\n",
    "    endy = map_dict[Map]['EndY']\n",
    "    resx = map_dict[Map]['ResX']\n",
    "    resy = map_dict[Map]['ResY']\n",
    "    startx = map_dict[Map]['StartX']\n",
    "    starty = map_dict[Map]['StartY']\n",
    "    df = df_cleaned_sep_df[Map]\n",
    "    if (Team != 'Both'):\n",
    "        df = df[df['vic_side'] == Team]\n",
    "    if (Weapon != 'ALL'):\n",
    "        df = df[df['wp'] == Weapon]\n",
    "    total_deaths = len(df)\n",
    "    print(\"Total Deaths:{}\".format(total_deaths))\n",
    "    \n",
    "    if (total_deaths<=10):\n",
    "        size=10\n",
    "    elif (total_deaths<=100):\n",
    "        size=5\n",
    "    elif (total_deaths<=500):\n",
    "        size=1\n",
    "    elif (total_deaths<=1000):\n",
    "        size=0.1\n",
    "    elif (total_deaths<=5000):\n",
    "        size=0.03\n",
    "    elif (total_deaths<=10000):\n",
    "        size=0.05\n",
    "    elif (total_deaths<=25000):\n",
    "        size=0.01\n",
    "    elif (total_deaths<=50000):\n",
    "        size=0.002\n",
    "    elif (total_deaths<=100000):\n",
    "        size=0.0005\n",
    "    else:\n",
    "        size=0.00003\n",
    "        \n",
    "    \n",
    "    im = plt.imread('maps/'+Map+'.png')\n",
    "    plt.axis([startx, endx, starty, endy])\n",
    "    if(Team != 'Both'):\n",
    "        if(Team == 'Terrorist'):\n",
    "            color='red'\n",
    "        else:\n",
    "            color='blue'\n",
    "            \n",
    "        plt.scatter(x=df.vic_pos_x, y=df.vic_pos_y, s=size, zorder=1, c=color)\n",
    "    else:\n",
    "        plt.scatter(x=df[df['vic_side'] == 'CounterTerrorist'].vic_pos_x, y=df[df['vic_side'] == 'CounterTerrorist'].vic_pos_y, s=size, zorder=1, c='blue')\n",
    "        plt.scatter(x=df[df['vic_side'] == 'Terrorist'].vic_pos_x, y=df[df['vic_side'] == 'Terrorist'].vic_pos_y, s=size, zorder=1, c='red')\n",
    "    #plt.scatter(x=df.att_pos_x, y=df.att_pos_y, s=size, zorder=1, c='red')\n",
    "    plt.imshow(im, zorder=0, extent=[startx, endx, starty, endy])\n",
    "    plt.axis('off')\n",
    "    plt.show()\n",
    "    "
   ]
  },
  {
   "cell_type": "code",
   "execution_count": 103,
   "id": "0579e6f2",
   "metadata": {},
   "outputs": [
    {
     "name": "stdout",
     "output_type": "stream",
     "text": [
      "           _________________________\n",
      "          |                         |\n",
      "          |  --Select Parameters--  |\n",
      "          |_________________________|\n",
      "\n"
     ]
    },
    {
     "data": {
      "application/vnd.jupyter.widget-view+json": {
       "model_id": "abd167aeddbd451190827f4e304c68cf",
       "version_major": 2,
       "version_minor": 0
      },
      "text/plain": [
       "interactive(children=(Dropdown(description='Map', options=('de_cache', 'de_cbble', 'de_dust2', 'de_inferno', '…"
      ]
     },
     "metadata": {},
     "output_type": "display_data"
    },
    {
     "data": {
      "text/plain": [
       "<function __main__.plotheat(Map, Team, Weapon)>"
      ]
     },
     "execution_count": 103,
     "metadata": {},
     "output_type": "execute_result"
    }
   ],
   "source": [
    "print(\"           _________________________\")\n",
    "print(\"          |                         |\")\n",
    "print(\"          |  --Select Parameters--  |\")\n",
    "print(\"          |_________________________|\")\n",
    "print(\"\")\n",
    "    \n",
    "interact(plotheat, Map = maps, Team = sides, Weapon = weapons)"
   ]
  },
  {
   "cell_type": "markdown",
   "id": "b13121af",
   "metadata": {},
   "source": [
    "___"
   ]
  },
  {
   "cell_type": "markdown",
   "id": "aecfd7ad",
   "metadata": {},
   "source": [
    "### Most Used Weapons by each side"
   ]
  },
  {
   "cell_type": "code",
   "execution_count": 104,
   "id": "7cb5f176",
   "metadata": {},
   "outputs": [],
   "source": [
    "def weapon_stats(Wp_type):\n",
    "    f = plt.figure(figsize=(20,10))\n",
    "    df = cleaned_df[['wp_type','wp','att_side']]\n",
    "    df = df[df['wp_type']==Wp_type].sort_values(axis=0,by='att_side')\n",
    "    sb.histplot(data=df,x='wp',hue='att_side', stat='count')\n",
    "    df['wp'].describe()"
   ]
  },
  {
   "cell_type": "code",
   "execution_count": 105,
   "id": "ab7ca22a",
   "metadata": {},
   "outputs": [
    {
     "name": "stdout",
     "output_type": "stream",
     "text": [
      "           _________________________\n",
      "          |                         |\n",
      "          |  --Select Parameters--  |\n",
      "          |_________________________|\n",
      "\n"
     ]
    },
    {
     "data": {
      "application/vnd.jupyter.widget-view+json": {
       "model_id": "847e2f723ef1426bb237128a89f26c0a",
       "version_major": 2,
       "version_minor": 0
      },
      "text/plain": [
       "interactive(children=(Dropdown(description='Wp_type', options=('Pistol', 'SMG', 'Rifle', 'Sniper', 'Heavy', 'G…"
      ]
     },
     "metadata": {},
     "output_type": "display_data"
    },
    {
     "data": {
      "text/plain": [
       "<function __main__.weapon_stats(Wp_type)>"
      ]
     },
     "execution_count": 105,
     "metadata": {},
     "output_type": "execute_result"
    }
   ],
   "source": [
    "print(\"           _________________________\")\n",
    "print(\"          |                         |\")\n",
    "print(\"          |  --Select Parameters--  |\")\n",
    "print(\"          |_________________________|\")\n",
    "print(\"\")\n",
    "\n",
    "interact(weapon_stats, Wp_type = wp_type)"
   ]
  },
  {
   "cell_type": "markdown",
   "id": "22e70b08",
   "metadata": {},
   "source": [
    "Weapons are droppped upon getting killed. Some weapons are also side-exclusive weapons. <br>\n",
    "For example for the Terrorist side, pistols are the Glock and Tec9, rifles are AK-47 and Galil and SMG are Mac10. <br>\n",
    "For the Counter-terrorist side, pistols are USP-S, FiveSeven and P200, rifles are M4 and M4A1 and SMG are MP9. <br>\n",
    "\n",
    "If we look at the graph for <b>rifles</b>, we see that AK-47 is being used the most. Even for the CT side, where the only option to use it is to loot a Terrorist's dead body, is the second most-used rifle used by the CTs. This means that the AK-47 is a powerful rifle that both want to use.\n",
    "\n",
    "For the Heavy weapons, we see that the kills are overwhelmingly CT-sided. Being a shorter-ranged and defensive weapon, CTs are capable of utilising it more to defend their bombsites."
   ]
  },
  {
   "cell_type": "markdown",
   "id": "ef0c2699",
   "metadata": {},
   "source": [
    "___"
   ]
  },
  {
   "cell_type": "markdown",
   "id": "61e7447f",
   "metadata": {},
   "source": [
    "# Machine Learning"
   ]
  },
  {
   "cell_type": "code",
   "execution_count": 106,
   "id": "43e1e441",
   "metadata": {},
   "outputs": [],
   "source": [
    "from sklearn.model_selection import train_test_split\n",
    "from sklearn.metrics import confusion_matrix\n",
    "from sklearn.tree import plot_tree\n",
    "\n",
    "sb.set()"
   ]
  },
  {
   "cell_type": "code",
   "execution_count": 191,
   "id": "7a039f8b",
   "metadata": {},
   "outputs": [],
   "source": [
    "#remove rounds with <= eq_val_diff of 5000\n",
    "ml_df = pd.DataFrame(cleaned_df[abs(cleaned_df['ct_eq_val'] - cleaned_df['t_eq_val']) >= 5000])\n",
    "ml_df = ml_df.sample(n=100000)\n",
    "\n",
    "#response\n",
    "side_win_ct = pd.DataFrame(ml_df['ct_win'])\n",
    "side_win_t = pd.DataFrame(ml_df['t_win'])\n",
    "\n",
    "#predictor\n",
    "eq_diff_ct = pd.DataFrame({\n",
    "    'eq_diff': ml_df['ct_eq_val'] - ml_df['t_eq_val'],\n",
    "    'is_bomb_planted': ml_df['is_bomb_planted']\n",
    "})\n",
    "eq_diff_t = pd.DataFrame({\n",
    "    'eq_diff': ml_df['t_eq_val'] - ml_df['ct_eq_val'],\n",
    "    'is_bomb_planted': ml_df['is_bomb_planted']\n",
    "})\n",
    "\n",
    "#train test split\n",
    "X_train, X_test, y_train, y_test = train_test_split(eq_diff_ct, side_win_ct, test_size = 0.20)\n",
    "X_train_t, X_test_t, y_train_t, y_test_t = train_test_split(eq_diff_t, side_win_t, test_size = 0.20)\n"
   ]
  },
  {
   "cell_type": "markdown",
   "id": "3d65688c",
   "metadata": {},
   "source": [
    "# Legend\n",
    "1. eq_diff : Total value of CT equipment - T equipment or T equipment - CT equipment depending on team\n",
    "     * if -X  (Enemy team equipment cost X more)\n",
    "\n",
    "     * if +X  (Your team equipment cost X more)\n",
    "     \n",
    "     \n",
    " \n",
    "2. is_bomb_planted : Whether bomb is planted"
   ]
  },
  {
   "cell_type": "markdown",
   "id": "20e9c4b4",
   "metadata": {},
   "source": [
    "## 1) Random Forest Classification"
   ]
  },
  {
   "cell_type": "markdown",
   "id": "3df1e59f",
   "metadata": {},
   "source": [
    "## Counter Terrorist"
   ]
  },
  {
   "cell_type": "code",
   "execution_count": 189,
   "id": "2b811d86",
   "metadata": {
    "scrolled": false
   },
   "outputs": [
    {
     "name": "stdout",
     "output_type": "stream",
     "text": [
      "Classification Accuracy Train\t: 0.7261375\n",
      "\n",
      "Classification Accuracy Test\t: 0.72475\n",
      "\n"
     ]
    }
   ],
   "source": [
    "from sklearn.ensemble import RandomForestClassifier\n",
    "\n",
    "rfc = RandomForestClassifier(n_estimators=100, max_depth=4)\n",
    "rfc.fit(X_train, y_train.values.ravel())\n",
    "rfc_train_pred = rfc.predict(X_train)\n",
    "rfc_test_pred = rfc.predict(X_test)\n",
    "\n",
    "print(\"Classification Accuracy Train\\t:\", rfc.score(X_train, y_train.values.ravel()))\n",
    "print()\n",
    "print(\"Classification Accuracy Test\\t:\", rfc.score(X_test, y_test.values.ravel()))\n",
    "print()\n",
    "\n",
    "acc_rfc = rfc.score(X_test, y_test.values.ravel())"
   ]
  },
  {
   "cell_type": "markdown",
   "id": "90bcf02d",
   "metadata": {},
   "source": [
    "## Terrorist"
   ]
  },
  {
   "cell_type": "code",
   "execution_count": 190,
   "id": "fcf9987c",
   "metadata": {},
   "outputs": [
    {
     "name": "stdout",
     "output_type": "stream",
     "text": [
      "Classification Accuracy Train\t: 0.725425\n",
      "\n",
      "Classification Accuracy Test\t: 0.72645\n",
      "\n"
     ]
    }
   ],
   "source": [
    "from sklearn.ensemble import RandomForestClassifier\n",
    "\n",
    "rfc_t = RandomForestClassifier(n_estimators=100, max_depth=4)\n",
    "rfc_t.fit(X_train_t, y_train_t.values.ravel())\n",
    "rfc_train_t_pred = rfc.predict(X_train_t)\n",
    "rfc_test_t_pred = rfc.predict(X_test_t)\n",
    "\n",
    "\n",
    "print(\"Classification Accuracy Train\\t:\", rfc_t.score(X_train_t, y_train_t.values.ravel()))\n",
    "print()\n",
    "\n",
    "print(\"Classification Accuracy Test\\t:\", rfc_t.score(X_test_t, y_test_t.values.ravel()))\n",
    "print() "
   ]
  },
  {
   "cell_type": "markdown",
   "id": "e415e023",
   "metadata": {},
   "source": [
    " ## 1.1 Visualisation and model evaluation with Confusion Matrix "
   ]
  },
  {
   "cell_type": "markdown",
   "id": "0be36dc3",
   "metadata": {},
   "source": [
    "## Counter Terrorist"
   ]
  },
  {
   "cell_type": "code",
   "execution_count": 147,
   "id": "60c66e5f",
   "metadata": {},
   "outputs": [
    {
     "data": {
      "image/png": "[encoded data removed]",
      "text/plain": [
       "<Figure size 2000x1000 with 1 Axes>"
      ]
     },
     "metadata": {},
     "output_type": "display_data"
    }
   ],
   "source": [
    "from sklearn.tree import plot_tree\n",
    "\n",
    "# Plotting the first tree of the Random Forest Classifier\n",
    "plt.figure(figsize=(20,10))\n",
    "tree = plot_tree(rfc.estimators_[0], feature_names=['Equip diff','Bombplanted'], class_names=['Lose', 'Win'], filled=True)"
   ]
  },
  {
   "cell_type": "code",
   "execution_count": 179,
   "id": "b8f26a85",
   "metadata": {
    "scrolled": true
   },
   "outputs": [
    {
     "name": "stdout",
     "output_type": "stream",
     "text": [
      "              precision    recall  f1-score   support\n",
      "\n",
      "     CT Lose       0.73      0.75      0.74     10299\n",
      "      CT Win       0.72      0.70      0.71      9701\n",
      "\n",
      "    accuracy                           0.72     20000\n",
      "   macro avg       0.72      0.72      0.72     20000\n",
      "weighted avg       0.72      0.72      0.72     20000\n",
      "\n"
     ]
    }
   ],
   "source": [
    "target_names = ['CT Lose', 'CT Win']\n",
    "print(classification_report(y_test, rfc_test_pred, target_names=target_names))"
   ]
  },
  {
   "cell_type": "markdown",
   "id": "0d1b2122",
   "metadata": {},
   "source": [
    "### Precision: \n",
    "Out of all the rounds where the model predicted a win, only 72% actually did.\n",
    "\n",
    "### Recall: \n",
    "Out of all the rounds which are actually won, the model predicted this outcome correctly for 70% of the time.\n",
    "\n",
    "### f1-score\n",
    "We got a value of 0.72, which shows the accuracy of the model in predicting whether the round is won "
   ]
  },
  {
   "cell_type": "markdown",
   "id": "2d65be8b",
   "metadata": {},
   "source": [
    "## Terrorist"
   ]
  },
  {
   "cell_type": "code",
   "execution_count": 149,
   "id": "aeb646a8",
   "metadata": {},
   "outputs": [
    {
     "data": {
      "image/png": "[encoded data removed]",
      "text/plain": [
       "<Figure size 2000x1000 with 1 Axes>"
      ]
     },
     "metadata": {},
     "output_type": "display_data"
    }
   ],
   "source": [
    "from sklearn.tree import plot_tree\n",
    "\n",
    "# Plotting the first tree of the Random Forest Classifier\n",
    "plt.figure(figsize=(20,10))\n",
    "tree = plot_tree(rfc_t.estimators_[0], feature_names=['Equip diff','Bombplanted'], class_names=['Lose', 'Win'], filled=True)"
   ]
  },
  {
   "cell_type": "code",
   "execution_count": 187,
   "id": "90c8dca2",
   "metadata": {},
   "outputs": [
    {
     "name": "stdout",
     "output_type": "stream",
     "text": [
      "              precision    recall  f1-score   support\n",
      "\n",
      "      T Lose       0.61      0.76      0.68      9684\n",
      "       T Win       0.71      0.55      0.62     10316\n",
      "\n",
      "    accuracy                           0.65     20000\n",
      "   macro avg       0.66      0.66      0.65     20000\n",
      "weighted avg       0.66      0.65      0.65     20000\n",
      "\n"
     ]
    }
   ],
   "source": [
    "target_names = ['T Lose', 'T Win']\n",
    "print(classification_report(y_test_t, rfc_test_t_pred, target_names=target_names))"
   ]
  },
  {
   "cell_type": "markdown",
   "id": "e3ad5219",
   "metadata": {},
   "source": [
    "### Precision: \n",
    "Out of all the rounds where the model predicted a win, only 71% actually did.\n",
    "\n",
    "### Recall: \n",
    "Out of all the rounds which are actually won, the model predicted this outcome correctly for only 55% of the time.\n",
    "\n",
    "### f1-score\n",
    "We got a value of 0.65"
   ]
  },
  {
   "cell_type": "markdown",
   "id": "3492955c",
   "metadata": {},
   "source": [
    "## Remarks\n",
    "\n",
    "The model is good for predicting Counter Terrorist side but when it comes to the Terrorist side, but it only predicted 55% of all the rounds won correctly, which is not a good value."
   ]
  },
  {
   "cell_type": "markdown",
   "id": "38b66341",
   "metadata": {},
   "source": [
    "## 2) Logisitic Regression\n"
   ]
  },
  {
   "cell_type": "markdown",
   "id": "b6281dda",
   "metadata": {},
   "source": [
    "## Counter Terrorist"
   ]
  },
  {
   "cell_type": "code",
   "execution_count": 114,
   "id": "ff7a1d43",
   "metadata": {
    "scrolled": true
   },
   "outputs": [
    {
     "name": "stdout",
     "output_type": "stream",
     "text": [
      "Logistic Regression \tTrain Dataset\n",
      "Accuracy \t: 0.7065125\n",
      "\n",
      "Logistic REgression \tTest Dataset\n",
      "Accuracy \t: 0.70825\n",
      "\n"
     ]
    }
   ],
   "source": [
    "from sklearn.linear_model import LogisticRegression\n",
    "\n",
    "\n",
    "logreg = LogisticRegression(random_state=16)\n",
    "logreg.fit(X_train, y_train.values.ravel())\n",
    "logreg_pred = logreg.predict(X_test)\n",
    "\n",
    "print(\"Logistic Regression \\tTrain Dataset\")\n",
    "print(\"Accuracy \\t:\", logreg.score(X_train, y_train.values.ravel()))\n",
    "print()\n",
    "\n",
    "print(\"Logistic REgression \\tTest Dataset\")\n",
    "print(\"Accuracy \\t:\", logreg.score(X_test, y_test))\n",
    "print()"
   ]
  },
  {
   "cell_type": "markdown",
   "id": "acf449c5",
   "metadata": {},
   "source": [
    "## Terrorist"
   ]
  },
  {
   "cell_type": "code",
   "execution_count": 115,
   "id": "b4bceb62",
   "metadata": {},
   "outputs": [
    {
     "name": "stdout",
     "output_type": "stream",
     "text": [
      "Logistic Regression \tTrain Dataset\n",
      "Accuracy \t: 0.7069875\n",
      "\n",
      "Logistic REgression \tTest Dataset\n",
      "Accuracy \t: 0.70635\n",
      "\n"
     ]
    }
   ],
   "source": [
    "logreg_t = LogisticRegression(random_state=16)\n",
    "logreg_t.fit(X_train_t, y_train_t.values.ravel())\n",
    "logreg_t_pred = logreg_t.predict(X_test_t)\n",
    "\n",
    "print(\"Logistic Regression \\tTrain Dataset\")\n",
    "print(\"Accuracy \\t:\", logreg_t.score(X_train_t, y_train_t.values.ravel()))\n",
    "print()\n",
    "\n",
    "print(\"Logistic REgression \\tTest Dataset\")\n",
    "print(\"Accuracy \\t:\", logreg_t.score(X_test_t, y_test_t))\n",
    "print()"
   ]
  },
  {
   "cell_type": "markdown",
   "id": "0de18535",
   "metadata": {},
   "source": [
    " ## 2.1 Visualisation and model evaluation with Confusion Matrix "
   ]
  },
  {
   "cell_type": "markdown",
   "id": "64972364",
   "metadata": {},
   "source": [
    "## Counter Terrorist"
   ]
  },
  {
   "cell_type": "code",
   "execution_count": 116,
   "id": "40863db5",
   "metadata": {
    "scrolled": false
   },
   "outputs": [
    {
     "data": {
      "text/plain": [
       "Text(0.5, 427.9555555555555, 'Predicted label')"
      ]
     },
     "execution_count": 116,
     "metadata": {},
     "output_type": "execute_result"
    },
    {
     "data": {
      "image/png": "[encoded data removed]",
      "text/plain": [
       "<Figure size 640x480 with 2 Axes>"
      ]
     },
     "metadata": {},
     "output_type": "display_data"
    }
   ],
   "source": [
    "from sklearn import metrics\n",
    "from sklearn.metrics import classification_report\n",
    "\n",
    "cnf_matrix = metrics.confusion_matrix(y_test, logreg_pred)\n",
    "class_names=[0,1] # name  of classes\n",
    "fig, ax = plt.subplots()\n",
    "tick_marks = np.arange(len(class_names))\n",
    "plt.xticks(tick_marks, class_names)\n",
    "plt.yticks(tick_marks, class_names)\n",
    "# create heatmap\n",
    "sb.heatmap(pd.DataFrame(cnf_matrix), annot=True, cmap=\"YlGnBu\" ,fmt='g')\n",
    "ax.xaxis.set_label_position(\"top\")\n",
    "plt.tight_layout()\n",
    "plt.title('Confusion matrix', y=1.1)\n",
    "plt.ylabel('Actual label')\n",
    "plt.xlabel('Predicted label')"
   ]
  },
  {
   "cell_type": "code",
   "execution_count": 117,
   "id": "0c94f133",
   "metadata": {},
   "outputs": [
    {
     "name": "stdout",
     "output_type": "stream",
     "text": [
      "              precision    recall  f1-score   support\n",
      "\n",
      "     CT Lose       0.74      0.67      0.70     10194\n",
      "      CT Win       0.68      0.75      0.72      9806\n",
      "\n",
      "    accuracy                           0.71     20000\n",
      "   macro avg       0.71      0.71      0.71     20000\n",
      "weighted avg       0.71      0.71      0.71     20000\n",
      "\n"
     ]
    }
   ],
   "source": [
    "target_names = ['CT Lose', 'CT Win']\n",
    "print(classification_report(y_test, logreg_pred, target_names=target_names))"
   ]
  },
  {
   "cell_type": "markdown",
   "id": "76f1779a",
   "metadata": {},
   "source": [
    "### Precision: \n",
    "Out of all the rounds where the model predicted a win, only 68% actually did.\n",
    "\n",
    "### Recall: \n",
    "Out of all the rounds which are actually won, the model predicted this outcome correctly for 75% of the time.\n",
    "\n",
    "### f1-score\n",
    "We got a value of 0.71, which shows the accuracy of the model in predicting whether the round is won "
   ]
  },
  {
   "cell_type": "markdown",
   "id": "ec16f886",
   "metadata": {},
   "source": [
    "## Terrorist"
   ]
  },
  {
   "cell_type": "code",
   "execution_count": 118,
   "id": "098db9be",
   "metadata": {},
   "outputs": [
    {
     "data": {
      "text/plain": [
       "Text(0.5, 427.9555555555555, 'Predicted label')"
      ]
     },
     "execution_count": 118,
     "metadata": {},
     "output_type": "execute_result"
    },
    {
     "data": {
      "image/png": "[encoded data removed]",
      "text/plain": [
       "<Figure size 640x480 with 2 Axes>"
      ]
     },
     "metadata": {},
     "output_type": "display_data"
    }
   ],
   "source": [
    "cnf_matrix = metrics.confusion_matrix(y_test_t, logreg_t_pred)\n",
    "class_names=[0,1] # name  of classes\n",
    "fig, ax = plt.subplots()\n",
    "tick_marks = np.arange(len(class_names))\n",
    "plt.xticks(tick_marks, class_names)\n",
    "plt.yticks(tick_marks, class_names)\n",
    "# create heatmap\n",
    "sb.heatmap(pd.DataFrame(cnf_matrix), annot=True, cmap=\"YlGnBu\" ,fmt='g')\n",
    "ax.xaxis.set_label_position(\"top\")\n",
    "plt.tight_layout()\n",
    "plt.title('Confusion matrix', y=1.1)\n",
    "plt.ylabel('Actual label')\n",
    "plt.xlabel('Predicted label')"
   ]
  },
  {
   "cell_type": "code",
   "execution_count": 119,
   "id": "71abe614",
   "metadata": {},
   "outputs": [
    {
     "name": "stdout",
     "output_type": "stream",
     "text": [
      "              precision    recall  f1-score   support\n",
      "\n",
      "      T Lose       0.68      0.75      0.71      9713\n",
      "       T Win       0.74      0.67      0.70     10287\n",
      "\n",
      "    accuracy                           0.71     20000\n",
      "   macro avg       0.71      0.71      0.71     20000\n",
      "weighted avg       0.71      0.71      0.71     20000\n",
      "\n"
     ]
    }
   ],
   "source": [
    "target_names = ['T Lose', 'T Win']\n",
    "print(classification_report(y_test_t, logreg_t_pred, target_names=target_names))"
   ]
  },
  {
   "cell_type": "markdown",
   "id": "4ca99959",
   "metadata": {},
   "source": [
    "### Precision: \n",
    "Out of all the rounds where the model predicted a win, only 74% actually did.\n",
    "\n",
    "### Recall: \n",
    "Out of all the rounds which are actually won, the model predicted this outcome correctly for 67% of the time.\n",
    "\n",
    "### f1-score\n",
    "We got a value of 0.71, which shows the accuracy of the model in predicting whether the round is won "
   ]
  },
  {
   "cell_type": "markdown",
   "id": "ee08e43b",
   "metadata": {},
   "source": [
    "## 2.2 Visualisation and model evaulation with ROC Curve"
   ]
  },
  {
   "cell_type": "code",
   "execution_count": 120,
   "id": "04a5776f",
   "metadata": {},
   "outputs": [
    {
     "data": {
      "image/png": "[encoded data removed]",
      "text/plain": [
       "<Figure size 640x480 with 1 Axes>"
      ]
     },
     "metadata": {},
     "output_type": "display_data"
    },
    {
     "data": {
      "image/png": "[encoded data removed]",
      "text/plain": [
       "<Figure size 640x480 with 1 Axes>"
      ]
     },
     "metadata": {},
     "output_type": "display_data"
    }
   ],
   "source": [
    "from sklearn.metrics import roc_auc_score\n",
    "from sklearn.metrics import roc_curve\n",
    "\n",
    "logit_roc_auc = roc_auc_score(y_test, logreg.predict(X_test))\n",
    "fpr, tpr, thresholds = roc_curve(y_test, logreg.predict_proba(X_test)[:,1])\n",
    "plt.figure()\n",
    "plt.plot(fpr, tpr, label='Logistic Regression (area = %0.2f)' % logit_roc_auc)\n",
    "plt.plot([0, 1], [0, 1],'r--')\n",
    "plt.xlim([0.0, 1.0])\n",
    "plt.ylim([0.0, 1.05])\n",
    "plt.xlabel('False Positive Rate')\n",
    "plt.ylabel('True Positive Rate')\n",
    "plt.title('Receiver operating characteristic')\n",
    "plt.legend(loc=\"lower right\")\n",
    "plt.savefig('Log_ROC')\n",
    "plt.show()\n",
    "\n",
    "logit_roc_auc_t = roc_auc_score(y_test_t, logreg.predict(X_test_t))\n",
    "fpr_t, tpr_t, thresholds_t = roc_curve(y_test_t, logreg.predict_proba(X_test_t)[:,1])\n",
    "plt.figure()\n",
    "plt.plot(fpr_t, tpr_t, label='Logistic Regression (area = %0.2f)' % logit_roc_auc_t)\n",
    "plt.plot([0, 1], [0, 1],'r--')\n",
    "plt.xlim([0.0, 1.0])\n",
    "plt.ylim([0.0, 1.05])\n",
    "plt.xlabel('False Positive Rate')\n",
    "plt.ylabel('True Positive Rate')\n",
    "plt.title('Receiver operating characteristic')\n",
    "plt.legend(loc=\"lower right\")\n",
    "plt.savefig('Log_ROC')\n",
    "plt.show()"
   ]
  },
  {
   "cell_type": "markdown",
   "id": "6fc64dc4",
   "metadata": {},
   "source": [
    "    The receiver operating characteristic (ROC) curve is a common tool used with binary classifiers such as this case. The dotted line represents the ROC curve of a purely random classifier; a good classifier stays as far away from that line as possible (toward the top-left corner). As we can see the area under the curve (AUC) is 0.71. It is equivalent to the probability that a randomly chosen positive instance is ranked higher than a randomly chosen negative instance"
   ]
  },
  {
   "cell_type": "markdown",
   "id": "4435fdb6",
   "metadata": {},
   "source": [
    "## 3) K-nearest-neighbour"
   ]
  },
  {
   "cell_type": "markdown",
   "id": "a716eaf8",
   "metadata": {},
   "source": [
    "## Counter Terrorist"
   ]
  },
  {
   "cell_type": "code",
   "execution_count": 134,
   "id": "adcd013e",
   "metadata": {},
   "outputs": [
    {
     "name": "stdout",
     "output_type": "stream",
     "text": [
      "K-Nearest Neighbors \tTrain Dataset\n",
      "Accuracy \t: 0.7136625\n",
      "K-Nearest Neighbors \tTest Dataset\n",
      "Accuracy \t: 0.71005\n"
     ]
    }
   ],
   "source": [
    "import warnings\n",
    "warnings.filterwarnings(\"ignore\", category=FutureWarning)\n",
    "\n",
    "from sklearn.neighbors import KNeighborsClassifier\n",
    "\n",
    "knn = KNeighborsClassifier(n_neighbors=60, weights='uniform')\n",
    "knn.fit(X_train, y_train.values.ravel())\n",
    "knn_pred = knn.predict(X_test)\n",
    "\n",
    "print(\"K-Nearest Neighbors \\tTrain Dataset\")\n",
    "print(\"Accuracy \\t:\", knn.score(X_train, y_train))\n",
    "\n",
    "print(\"K-Nearest Neighbors \\tTest Dataset\")\n",
    "print(\"Accuracy \\t:\", knn.score(X_test, y_test))\n",
    "\n",
    "acc_knn = knn.score(X_test, y_test)"
   ]
  },
  {
   "cell_type": "markdown",
   "id": "18ec308c",
   "metadata": {},
   "source": [
    "## Terrorist"
   ]
  },
  {
   "cell_type": "code",
   "execution_count": 131,
   "id": "82d3ea2b",
   "metadata": {
    "scrolled": true
   },
   "outputs": [
    {
     "name": "stdout",
     "output_type": "stream",
     "text": [
      "K-Nearest Neighbors \tTrain Dataset\n",
      "Accuracy \t: 0.712925\n",
      "K-Nearest Neighbors \tTest Dataset\n",
      "Accuracy \t: 0.706\n"
     ]
    }
   ],
   "source": [
    "knn_t = KNeighborsClassifier(n_neighbors=60, weights='uniform')\n",
    "knn_t.fit(X_train_t, y_train_t.values.ravel())\n",
    "knn_t_pred = knn_t.predict(X_test_t)\n",
    "\n",
    "print(\"K-Nearest Neighbors \\tTrain Dataset\")\n",
    "print(\"Accuracy \\t:\", knn_t.score(X_train_t, y_train_t))\n",
    "\n",
    "print(\"K-Nearest Neighbors \\tTest Dataset\")\n",
    "print(\"Accuracy \\t:\", knn_t.score(X_test_t, y_test_t))\n",
    "\n",
    "acc_knn_t = knn_t.score(X_test_t, y_test_t)"
   ]
  },
  {
   "cell_type": "markdown",
   "id": "5125cb7f",
   "metadata": {},
   "source": [
    "## 3.1) Visualisation and model evaluation with Confusion Matrix"
   ]
  },
  {
   "cell_type": "markdown",
   "id": "966c0169",
   "metadata": {},
   "source": [
    "## Counter Terrorist"
   ]
  },
  {
   "cell_type": "code",
   "execution_count": 123,
   "id": "e4d6b00a",
   "metadata": {},
   "outputs": [
    {
     "data": {
      "text/plain": [
       "Text(0.5, 427.9555555555555, 'Predicted label')"
      ]
     },
     "execution_count": 123,
     "metadata": {},
     "output_type": "execute_result"
    },
    {
     "data": {
      "image/png": "[encoded data removed]",
      "text/plain": [
       "<Figure size 640x480 with 2 Axes>"
      ]
     },
     "metadata": {},
     "output_type": "display_data"
    }
   ],
   "source": [
    "cnf_matrix = metrics.confusion_matrix(y_test, knn_pred)\n",
    "class_names=[0,1] # name  of classes\n",
    "fig, ax = plt.subplots()\n",
    "tick_marks = np.arange(len(class_names))\n",
    "plt.xticks(tick_marks, class_names)\n",
    "plt.yticks(tick_marks, class_names)\n",
    "# create heatmap\n",
    "sb.heatmap(pd.DataFrame(cnf_matrix), annot=True, cmap=\"YlGnBu\" ,fmt='g')\n",
    "ax.xaxis.set_label_position(\"top\")\n",
    "plt.tight_layout()\n",
    "plt.title('Confusion matrix', y=1.1)\n",
    "plt.ylabel('Actual label')\n",
    "plt.xlabel('Predicted label')"
   ]
  },
  {
   "cell_type": "code",
   "execution_count": 124,
   "id": "7682d7ff",
   "metadata": {
    "scrolled": true
   },
   "outputs": [
    {
     "name": "stdout",
     "output_type": "stream",
     "text": [
      "              precision    recall  f1-score   support\n",
      "\n",
      "     CT Lose       0.73      0.68      0.70     10194\n",
      "      CT Win       0.69      0.74      0.72      9806\n",
      "\n",
      "    accuracy                           0.71     20000\n",
      "   macro avg       0.71      0.71      0.71     20000\n",
      "weighted avg       0.71      0.71      0.71     20000\n",
      "\n"
     ]
    }
   ],
   "source": [
    "target_names = ['CT Lose', 'CT Win']\n",
    "print(classification_report(y_test, knn_pred, target_names=target_names))"
   ]
  },
  {
   "cell_type": "markdown",
   "id": "5b92ea81",
   "metadata": {},
   "source": [
    "### Precision: \n",
    "Out of all the rounds where the model predicted a win, only 0.69% actually did.\n",
    "\n",
    "### Recall: \n",
    "Out of all the rounds which are actually won, the model predicted this outcome correctly for 74% of the time.\n",
    "\n",
    "### f1-score\n",
    "We got a value of 0.71, which shows the accuracy of the model in predicting whether the round is won "
   ]
  },
  {
   "cell_type": "markdown",
   "id": "76326c8c",
   "metadata": {},
   "source": [
    "## Terrorist"
   ]
  },
  {
   "cell_type": "code",
   "execution_count": 125,
   "id": "13e11334",
   "metadata": {},
   "outputs": [
    {
     "data": {
      "text/plain": [
       "Text(0.5, 427.9555555555555, 'Predicted label')"
      ]
     },
     "execution_count": 125,
     "metadata": {},
     "output_type": "execute_result"
    },
    {
     "data": {
      "image/png": "[encoded data removed]",
      "text/plain": [
       "<Figure size 640x480 with 2 Axes>"
      ]
     },
     "metadata": {},
     "output_type": "display_data"
    }
   ],
   "source": [
    "cnf_matrix = metrics.confusion_matrix(y_test_t, knn_t_pred)\n",
    "class_names=[0,1] # name  of classes\n",
    "fig, ax = plt.subplots()\n",
    "tick_marks = np.arange(len(class_names))\n",
    "plt.xticks(tick_marks, class_names)\n",
    "plt.yticks(tick_marks, class_names)\n",
    "# create heatmap\n",
    "sb.heatmap(pd.DataFrame(cnf_matrix), annot=True, cmap=\"YlGnBu\" ,fmt='g')\n",
    "ax.xaxis.set_label_position(\"top\")\n",
    "plt.tight_layout()\n",
    "plt.title('Confusion matrix', y=1.1)\n",
    "plt.ylabel('Actual label')\n",
    "plt.xlabel('Predicted label')"
   ]
  },
  {
   "cell_type": "code",
   "execution_count": 126,
   "id": "c5f3dabb",
   "metadata": {
    "scrolled": true
   },
   "outputs": [
    {
     "name": "stdout",
     "output_type": "stream",
     "text": [
      "              precision    recall  f1-score   support\n",
      "\n",
      "      T Lose       0.67      0.73      0.70      9713\n",
      "       T Win       0.72      0.66      0.69     10287\n",
      "\n",
      "    accuracy                           0.69     20000\n",
      "   macro avg       0.69      0.69      0.69     20000\n",
      "weighted avg       0.70      0.69      0.69     20000\n",
      "\n"
     ]
    }
   ],
   "source": [
    "target_names = ['T Lose', 'T Win']\n",
    "print(classification_report(y_test_t, knn_t_pred, target_names=target_names))"
   ]
  },
  {
   "cell_type": "markdown",
   "id": "a200a08a",
   "metadata": {},
   "source": [
    "### Precision: \n",
    "Out of all the rounds where the model predicted a win, only 72% actually did.\n",
    "\n",
    "### Recall: \n",
    "Out of all the rounds which are actually won, the model predicted this outcome correctly for 0.66% of the time.\n",
    "\n",
    "### f1-score\n",
    "We got a value of 0.69, which shows the accuracy of the model in predicting whether the round is won "
   ]
  },
  {
   "cell_type": "markdown",
   "id": "5305f411",
   "metadata": {},
   "source": [
    "## 3.2) Visualisation and model evaulation with Cross Validation"
   ]
  },
  {
   "cell_type": "code",
   "execution_count": 127,
   "id": "70a9ac13",
   "metadata": {},
   "outputs": [
    {
     "name": "stdout",
     "output_type": "stream",
     "text": [
      "done\n"
     ]
    },
    {
     "data": {
      "image/png": "[encoded data removed]",
      "text/plain": [
       "<Figure size 640x480 with 1 Axes>"
      ]
     },
     "metadata": {},
     "output_type": "display_data"
    }
   ],
   "source": [
    "from sklearn.model_selection import cross_val_score\n",
    "from sklearn.preprocessing import StandardScaler\n",
    "\n",
    "k_values = [i for i in range (1,101)]\n",
    "scores = []\n",
    "\n",
    "scaler = StandardScaler()\n",
    "eq_diff_ct = scaler.fit_transform(eq_diff_ct)\n",
    "\n",
    "for k in k_values:\n",
    "    knn = KNeighborsClassifier(n_neighbors=k)\n",
    "    score = cross_val_score(knn, eq_diff_ct, side_win_ct.values.ravel(), cv=5)\n",
    "    scores.append(np.mean(score))\n",
    "    \n",
    "sb.lineplot(x = k_values, y = scores, marker = 'o')\n",
    "plt.xlabel(\"K Values\")\n",
    "plt.ylabel(\"Accuracy Score\")\n",
    "print(\"done\")"
   ]
  },
  {
   "cell_type": "code",
   "execution_count": 128,
   "id": "070f2107",
   "metadata": {},
   "outputs": [
    {
     "name": "stdout",
     "output_type": "stream",
     "text": [
      "done\n"
     ]
    },
    {
     "data": {
      "image/png": "[encoded data removed]",
      "text/plain": [
       "<Figure size 640x480 with 1 Axes>"
      ]
     },
     "metadata": {},
     "output_type": "display_data"
    }
   ],
   "source": [
    "k_values = [i for i in range (1,101)]\n",
    "scores = []\n",
    "\n",
    "scaler = StandardScaler()\n",
    "eq_diff_t = scaler.fit_transform(eq_diff_t)\n",
    "\n",
    "for k in k_values:\n",
    "    knn = KNeighborsClassifier(n_neighbors=k)\n",
    "    score = cross_val_score(knn, eq_diff_t, side_win_t.values.ravel(), cv=5)\n",
    "    scores.append(np.mean(score))\n",
    "    \n",
    "sb.lineplot(x = k_values, y = scores, marker = 'o')\n",
    "plt.xlabel(\"K Values\")\n",
    "plt.ylabel(\"Accuracy Score\")\n",
    "print(\"done\")"
   ]
  },
  {
   "cell_type": "markdown",
   "id": "af2ae626",
   "metadata": {},
   "source": [
    "###### We can see from the charts that as k (n_neighbours) increases, the accuracy score increases, but it starts plateauing when k reaches 50+. generally a higher k value gives better accuracy. The model used uses 60 n_neighbours which gives an Accuracy score of 71%."
   ]
  },
  {
   "cell_type": "markdown",
   "id": "179984c4",
   "metadata": {},
   "source": [
    "# Conclusion"
   ]
  },
  {
   "cell_type": "code",
   "execution_count": 176,
   "id": "5ee635df",
   "metadata": {
    "scrolled": true
   },
   "outputs": [
    {
     "data": {
      "text/html": [
       "<div>\n",
       "<style scoped>\n",
       "    .dataframe tbody tr th:only-of-type {\n",
       "        vertical-align: middle;\n",
       "    }\n",
       "\n",
       "    .dataframe tbody tr th {\n",
       "        vertical-align: top;\n",
       "    }\n",
       "\n",
       "    .dataframe thead th {\n",
       "        text-align: right;\n",
       "    }\n",
       "</style>\n",
       "<table border=\"1\" class=\"dataframe\">\n",
       "  <thead>\n",
       "    <tr style=\"text-align: right;\">\n",
       "      <th></th>\n",
       "      <th>Model</th>\n",
       "      <th>CT acc</th>\n",
       "      <th>T acc</th>\n",
       "    </tr>\n",
       "  </thead>\n",
       "  <tbody>\n",
       "    <tr>\n",
       "      <th>0</th>\n",
       "      <td>RFC</td>\n",
       "      <td>0.72470</td>\n",
       "      <td>0.7264</td>\n",
       "    </tr>\n",
       "    <tr>\n",
       "      <th>1</th>\n",
       "      <td>LR</td>\n",
       "      <td>0.70605</td>\n",
       "      <td>0.7081</td>\n",
       "    </tr>\n",
       "    <tr>\n",
       "      <th>2</th>\n",
       "      <td>KNN</td>\n",
       "      <td>0.71005</td>\n",
       "      <td>0.7060</td>\n",
       "    </tr>\n",
       "  </tbody>\n",
       "</table>\n",
       "</div>"
      ],
      "text/plain": [
       "  Model   CT acc   T acc\n",
       "0   RFC  0.72470  0.7264\n",
       "1    LR  0.70605  0.7081\n",
       "2   KNN  0.71005  0.7060"
      ]
     },
     "execution_count": 176,
     "metadata": {},
     "output_type": "execute_result"
    }
   ],
   "source": [
    "accuracy_ct = []\n",
    "accuracy_t = []\n",
    "accuracy_ct = list(( acc_rfc , logreg.score(X_test, y_test), acc_knn))\n",
    "accuracy_t = list(( rfc_t.score(X_test_t, y_test_t.values.ravel()) , logreg_t.score(X_test_t, y_test_t), acc_knn_t))\n",
    "models = ['RFC','LR','KNN']\n",
    "results = pd.DataFrame({'Model': models,\n",
    "                       'CT acc': accuracy_ct,\n",
    "                       'T acc': accuracy_t})\n",
    "results.head()"
   ]
  },
  {
   "cell_type": "markdown",
   "id": "6937a2f9",
   "metadata": {},
   "source": [
    "There is a correlation between Equipment value difference and whether you win the round and between whether bomb is planted and whether you win the round. Overall, the Random Forest Classifier is a better model in predicting whether the round is won."
   ]
  },
  {
   "cell_type": "markdown",
   "id": "e07fe6f6",
   "metadata": {},
   "source": [
    "___"
   ]
  }
 ],
 "metadata": {
  "kernelspec": {
   "display_name": "Python 3 (ipykernel)",
   "language": "python",
   "name": "python3"
  },
  "language_info": {
   "codemirror_mode": {
    "name": "ipython",
    "version": 3
   },
   "file_extension": ".py",
   "mimetype": "text/x-python",
   "name": "python",
   "nbconvert_exporter": "python",
   "pygments_lexer": "ipython3",
   "version": "3.9.13"
  }
 },
 "nbformat": 4,
 "nbformat_minor": 5
}
